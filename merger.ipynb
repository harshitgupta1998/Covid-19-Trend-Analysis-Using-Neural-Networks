{
 "cells": [
  {
   "cell_type": "code",
   "execution_count": 24,
   "metadata": {},
   "outputs": [],
   "source": [
    "import pandas as pd\n",
    "import numpy as np\n"
   ]
  },
  {
   "cell_type": "code",
   "execution_count": 25,
   "metadata": {},
   "outputs": [],
   "source": [
    "df1 = pd.read_csv(\"C:/Users/harshit/Desktop/Covid_project/HospitalBedsIndia.csv\")\n",
    "df2 = pd.read_csv(\"C:/Users/harshit/Desktop/Covid_project/population_india_census2011.csv\")\n",
    "df3 = pd.read_csv(\"C:/Users/harshit/Desktop/Covid_project/covid_19_india.csv\")\n",
    "df4 = pd.read_csv(\"C:/Users/harshit/Desktop/Covid_project/IndividualDetails.csv\")\n",
    "\n",
    "\n",
    "\n",
    "\n",
    "#print(left_merge.head())\n"
   ]
  },
  {
   "cell_type": "code",
   "execution_count": 41,
   "metadata": {},
   "outputs": [],
   "source": [
    "left_merge = pd.merge(left=df1, right=df2, on=\"State/UnionTerritory\", how=\"left\")"
   ]
  },
  {
   "cell_type": "code",
   "execution_count": 42,
   "metadata": {},
   "outputs": [
    {
     "data": {
      "text/plain": [
       "19"
      ]
     },
     "execution_count": 42,
     "metadata": {},
     "output_type": "execute_result"
    }
   ],
   "source": [
    "len(left_merge.columns)"
   ]
  },
  {
   "cell_type": "code",
   "execution_count": 43,
   "metadata": {},
   "outputs": [
    {
     "data": {
      "text/plain": [
       "\"So we have three type of data that can be used to analysis various factors \\n1. Hospitals and States (here we're merging 3 ds)\\n2. Indiviuals (1 ds)\\n3. ICMR tests (1 ds) - Using linear reg\""
      ]
     },
     "execution_count": 43,
     "metadata": {},
     "output_type": "execute_result"
    }
   ],
   "source": [
    "\"\"\"So we have three type of data that can be used to analysis various factors \n",
    "1. Hospitals and States (here we're merging 3 ds)\n",
    "2. Indiviuals (1 ds)\n",
    "3. ICMR tests (1 ds) - Using linear reg\"\"\""
   ]
  },
  {
   "cell_type": "code",
   "execution_count": 44,
   "metadata": {},
   "outputs": [
    {
     "data": {
      "text/plain": [
       "(37, 19)"
      ]
     },
     "execution_count": 44,
     "metadata": {},
     "output_type": "execute_result"
    }
   ],
   "source": [
    "left_merge.shape"
   ]
  },
  {
   "cell_type": "code",
   "execution_count": 45,
   "metadata": {},
   "outputs": [],
   "source": [
    "left_merge2 = pd.merge(left=df3, right=left_merge, on=\"State/UnionTerritory\", how=\"left\")"
   ]
  },
  {
   "cell_type": "code",
   "execution_count": 46,
   "metadata": {},
   "outputs": [
    {
     "data": {
      "text/plain": [
       "(770, 27)"
      ]
     },
     "execution_count": 46,
     "metadata": {},
     "output_type": "execute_result"
    }
   ],
   "source": [
    "left_merge2.shape"
   ]
  },
  {
   "cell_type": "code",
   "execution_count": 19,
   "metadata": {},
   "outputs": [],
   "source": [
    "#left_merge3 = pd.merge(left=left_merge2, right=df4, on=\"State/UnionTerritory\", how=\"left\")\n",
    "#Since the indiv and state wise analysis is to be done seperately, don't merge the file left_merger here."
   ]
  },
  {
   "cell_type": "code",
   "execution_count": 21,
   "metadata": {},
   "outputs": [
    {
     "data": {
      "text/plain": [
       "Index(['Sno', 'Date', 'Time', 'State/UnionTerritory',\n",
       "       'ConfirmedIndianNational', 'ConfirmedForeignNational', 'Cured',\n",
       "       'Deaths', 'Confirmed', 'Sno_x', 'NumPrimaryHealthCenters_HMIS',\n",
       "       'NumCommunityHealthCenters_HMIS', 'NumSubDistrictHospitals_HMIS',\n",
       "       'NumDistrictHospitals_HMIS', 'TotalPublicHealthFacilities_HMIS',\n",
       "       'NumPublicBeds_HMIS', 'NumRuralHospitals_NHP18', 'NumRuralBeds_NHP18',\n",
       "       'NumUrbanHospitals_NHP18', 'NumUrbanBeds_NHP18', 'Sno_y', 'Population',\n",
       "       'Rural population', 'Urban population', 'Area', 'Density',\n",
       "       'Gender Ratio'],\n",
       "      dtype='object')"
      ]
     },
     "execution_count": 21,
     "metadata": {},
     "output_type": "execute_result"
    }
   ],
   "source": [
    "left_merge2.columns"
   ]
  },
  {
   "cell_type": "code",
   "execution_count": 48,
   "metadata": {},
   "outputs": [],
   "source": [
    "left_merge2.to_csv (r\"C:/Users/harshit/Desktop/Covid_project/merged.csv\", index = False, header=True)"
   ]
  },
  {
   "cell_type": "code",
   "execution_count": null,
   "metadata": {},
   "outputs": [],
   "source": []
  }
 ],
 "metadata": {
  "kernelspec": {
   "display_name": "Python 3",
   "language": "python",
   "name": "python3"
  },
  "language_info": {
   "codemirror_mode": {
    "name": "ipython",
    "version": 3
   },
   "file_extension": ".py",
   "mimetype": "text/x-python",
   "name": "python",
   "nbconvert_exporter": "python",
   "pygments_lexer": "ipython3",
   "version": "3.7.1"
  }
 },
 "nbformat": 4,
 "nbformat_minor": 2
}
