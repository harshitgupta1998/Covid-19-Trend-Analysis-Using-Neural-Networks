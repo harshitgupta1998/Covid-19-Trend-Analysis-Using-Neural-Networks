{
  "nbformat": 4,
  "nbformat_minor": 0,
  "metadata": {
    "colab": {
      "name": "LSTM and CNN",
      "provenance": [],
      "collapsed_sections": [],
      "toc_visible": true,
      "machine_shape": "hm",
      "include_colab_link": true
    },
    "kernelspec": {
      "name": "python3",
      "display_name": "Python 3"
    },
    "accelerator": "GPU"
  },
  "cells": [
    {
      "cell_type": "markdown",
      "metadata": {
        "id": "view-in-github",
        "colab_type": "text"
      },
      "source": [
        "<a href=\"https://colab.research.google.com/github/harshitgupta1998/Covid-19_dataset/blob/master/LSTM_and_CNN_26_06.ipynb\" target=\"_parent\"><img src=\"https://colab.research.google.com/assets/colab-badge.svg\" alt=\"Open In Colab\"/></a>"
      ]
    },
    {
      "cell_type": "code",
      "metadata": {
        "id": "WQWWb4PC7_wi",
        "colab_type": "code",
        "colab": {
          "base_uri": "https://localhost:8080/",
          "height": 34
        },
        "outputId": "2fcecbee-f811-4870-d0d7-f01bb1e2b448"
      },
      "source": [
        "from tensorflow.python.client import device_lib\n",
        "device_lib.list_local_devices()\n",
        "\n",
        "from google.colab import drive\n",
        "drive.mount('/content/drive/')\n"
      ],
      "execution_count": 2,
      "outputs": [
        {
          "output_type": "stream",
          "text": [
            "Drive already mounted at /content/drive/; to attempt to forcibly remount, call drive.mount(\"/content/drive/\", force_remount=True).\n"
          ],
          "name": "stdout"
        }
      ]
    },
    {
      "cell_type": "code",
      "metadata": {
        "id": "JWVLpJKC_LOd",
        "colab_type": "code",
        "colab": {}
      },
      "source": [
        "import os\n",
        "import glob\n",
        "import numpy as np\n",
        "from tensorflow.keras import layers\n",
        "from tensorflow import keras \n",
        "import tensorflow as tf\n"
      ],
      "execution_count": 3,
      "outputs": []
    },
    {
      "cell_type": "code",
      "metadata": {
        "id": "X1dJbtkA_L2P",
        "colab_type": "code",
        "colab": {}
      },
      "source": [
        "class cnn:\n",
        "    def __init__(self):\n",
        "        self.batch_size = 128\n",
        "        self.dir_data='/content/drive/My Drive/BE_project_dataset_and_code/data/' #change to run locally\n",
        "        self.num_of_classes,self.dict =create_dic(self.dir_data)\n",
        "        self.image_size = 28\n",
        "        self.validate_data = 10000"
      ],
      "execution_count": 4,
      "outputs": []
    },
    {
      "cell_type": "code",
      "metadata": {
        "id": "_lBnSq2O_ZCa",
        "colab_type": "code",
        "colab": {
          "base_uri": "https://localhost:8080/",
          "height": 54
        },
        "outputId": "97308b5e-ccd8-4e40-c3e0-9f66794f97da"
      },
      "source": [
        "with open('mini_classes.txt','w') as f: #create a file for mini class\n",
        "    for file in sorted(os.listdir('/content/drive/My Drive/BE_project_dataset_and_code/data/')): #see how to take data from google drive into colab \n",
        "        if file.endswith(\".npy\"): #copy from drive not local drive change accordingly\n",
        "            print(file.split(\".\")[0], file = f)\n",
        "f = open(\"mini_classes.txt\",\"r\")\n",
        "# And for reading use\n",
        "classes = f.readlines()\n",
        "f.close()\n",
        "classes = [c.replace('\\n','').replace(' ','_') for c in classes]\n",
        "print(classes)\n"
      ],
      "execution_count": 5,
      "outputs": [
        {
          "output_type": "stream",
          "text": [
            "['ambulance', 'apple', 'axe', 'basketball', 'bicycle', 'boomerang', 'butterfly', 'car', 'carrot', 'cat', 'clock', 'cookie', 'cup', 'donut', 'envelope', 'flower', 'hammer', 'key', 'knife', 'lightning', 'pencil', 'pizza', 'rainbow', 'snake', 'spider', 'star', 'tractor', 'tree', 'whale', 'windmill']\n"
          ],
          "name": "stdout"
        }
      ]
    },
    {
      "cell_type": "code",
      "metadata": {
        "id": "RGe4LFoJAEEo",
        "colab_type": "code",
        "colab": {}
      },
      "source": [
        "dir_data='/content/drive/My Drive/BE_project_dataset_and_code/data/'\n",
        "def create_dic(dir_data):\n",
        "    dict={}\n",
        "    i=0\n",
        "    for file in sorted(os.listdir('/content/drive/My Drive/BE_project_dataset_and_code/data/')):\n",
        "        if file.endswith(\".npy\"):\n",
        "            str=file.split(\".\")\n",
        "            dict[i]=str[0]\n",
        "            i=i+1\n",
        "    return i,dict"
      ],
      "execution_count": 6,
      "outputs": []
    },
    {
      "cell_type": "code",
      "metadata": {
        "id": "iFeTkT4iATSQ",
        "colab_type": "code",
        "colab": {}
      },
      "source": [
        "def load_data(cnn):\n",
        "    dir_data='/content/drive/My Drive/BE_project_dataset_and_code/data/' #change to run locally all dir_data\n",
        "    num_of_classess,dict=create_dic(dir_data)\n",
        "    data_l=np.zeros((1))\n",
        "    data_d=np.zeros((1,cnn.image_size*cnn.image_size))\n",
        "    index=0\n",
        "    class_names = []\n",
        "    for file in sorted(os.listdir(dir_data)):\n",
        "        if file.endswith(\".npy\"):\n",
        "            print(data_l.shape,data_d.shape,\"cur label num!\",index+1,file)\n",
        "            curr_data=np.load(dir_data+file)\n",
        "            data_size=curr_data.shape\n",
        "            #take only 30 percent of the data\n",
        "            part_data=int(0.3*(data_size[0]))\n",
        "            curr_data=curr_data[1:part_data,:]\n",
        "            \n",
        "\n",
        "            #change to white background\n",
        "            curr_data=255-curr_data;\n",
        "            data_d=np.concatenate((data_d,curr_data), axis=0)\n",
        "            data_l=np.concatenate((data_l,np.ones(curr_data.shape[0])*index))\n",
        "            index=index+1\n",
        "            class_names.append(file.split('.')[0])\n",
        "\n",
        "    data_l=np.expand_dims(data_l,1)\n",
        "    data_all=np.concatenate((data_d,data_l),axis=1)\n",
        "    data_all=np.random.permutation(data_all)\n",
        "\n",
        "    x_data=data_all[:,0:-1]\n",
        "    y_data=data_all[:,-1]\n",
        "    num_img=x_data.shape[0]\n",
        "    data_img=np.reshape(x_data,[num_img,cnn.image_size,cnn.image_size])\n",
        "\n",
        "\n",
        "    data_train=data_img[cnn.validate_data:,:,:]\n",
        "    data_train=np.expand_dims(data_train,3)\n",
        "\n",
        "    labels_train=y_data[cnn.validate_data:]\n",
        "    data_test=data_img[:cnn.validate_data:,:,:]\n",
        "    data_test=np.expand_dims(data_test,3)\n",
        "\n",
        "    labels_test=y_data[:cnn.validate_data]\n",
        "\n",
        "\n",
        "    return data_train,labels_train,data_test,labels_test,class_names"
      ],
      "execution_count": 7,
      "outputs": []
    },
    {
      "cell_type": "code",
      "metadata": {
        "id": "rc9zRglTAZIJ",
        "colab_type": "code",
        "colab": {
          "base_uri": "https://localhost:8080/",
          "height": 521
        },
        "outputId": "2eb86301-7723-4540-eda5-0518599110c7"
      },
      "source": [
        "quick_draw_cnn=cnn()\n",
        "x_train, y_train, x_test, y_test, class_names = load_data(quick_draw_cnn)\n",
        "num_classes = len(class_names)"
      ],
      "execution_count": 8,
      "outputs": [
        {
          "output_type": "stream",
          "text": [
            "(1,) (1, 784) cur label num! 1 ambulance.npy\n",
            "(44401,) (44401, 784) cur label num! 2 apple.npy\n",
            "(87816,) (87816, 784) cur label num! 3 axe.npy\n",
            "(125051,) (125051, 784) cur label num! 4 basketball.npy\n",
            "(165187,) (165187, 784) cur label num! 5 bicycle.npy\n",
            "(203144,) (203144, 784) cur label num! 6 boomerang.npy\n",
            "(245947,) (245947, 784) cur label num! 7 butterfly.npy\n",
            "(281345,) (281345, 784) cur label num! 8 car.npy\n",
            "(336173,) (336173, 784) cur label num! 9 carrot.npy\n",
            "(375909,) (375909, 784) cur label num! 10 cat.npy\n",
            "(412868,) (412868, 784) cur label num! 11 clock.npy\n",
            "(449027,) (449027, 784) cur label num! 12 cookie.npy\n",
            "(488431,) (488431, 784) cur label num! 13 cup.npy\n",
            "(527646,) (527646, 784) cur label num! 14 donut.npy\n",
            "(569870,) (569870, 784) cur label num! 15 envelope.npy\n",
            "(610327,) (610327, 784) cur label num! 16 flower.npy\n",
            "(653771,) (653771, 784) cur label num! 17 hammer.npy\n",
            "(689473,) (689473, 784) cur label num! 18 key.npy\n",
            "(737761,) (737761, 784) cur label num! 19 knife.npy\n",
            "(789556,) (789556, 784) cur label num! 20 lightning.npy\n",
            "(835023,) (835023, 784) cur label num! 21 pencil.npy\n",
            "(871622,) (871622, 784) cur label num! 22 pizza.npy\n",
            "(910732,) (910732, 784) cur label num! 23 rainbow.npy\n",
            "(948784,) (948784, 784) cur label num! 24 snake.npy\n",
            "(985464,) (985464, 784) cur label num! 25 spider.npy\n",
            "(1048297,) (1048297, 784) cur label num! 26 star.npy\n",
            "(1089581,) (1089581, 784) cur label num! 27 tractor.npy\n",
            "(1124583,) (1124583, 784) cur label num! 28 tree.npy\n",
            "(1167998,) (1167998, 784) cur label num! 29 whale.npy\n",
            "(1202947,) (1202947, 784) cur label num! 30 windmill.npy\n"
          ],
          "name": "stdout"
        }
      ]
    },
    {
      "cell_type": "code",
      "metadata": {
        "id": "3aK75a7XAv9D",
        "colab_type": "code",
        "colab": {}
      },
      "source": [
        "x_train = x_train.reshape(x_train.shape[0], quick_draw_cnn.image_size, quick_draw_cnn.image_size, 1).astype('float32')\n",
        "x_test = x_test.reshape(x_test.shape[0], quick_draw_cnn.image_size, quick_draw_cnn.image_size, 1).astype('float32')\n",
        "\n",
        "x_train /= 255.0\n",
        "x_test /= 255.0\n",
        "\n",
        "# Convert class vectors to class matrices\n",
        "y_train = keras.utils.to_categorical(y_train, num_classes)\n",
        "y_test = keras.utils.to_categorical(y_test, num_classes)\n"
      ],
      "execution_count": 9,
      "outputs": []
    },
    {
      "cell_type": "code",
      "metadata": {
        "id": "-2mYt6NKAwah",
        "colab_type": "code",
        "colab": {
          "base_uri": "https://localhost:8080/",
          "height": 538
        },
        "outputId": "6a9f70c0-a653-4dbc-b973-1f7b6102b815"
      },
      "source": [
        "from tensorflow.python.keras.layers import Dense,LSTM\n",
        "from tensorflow.python.keras import Sequential\n",
        "\n",
        "model_CNN1 = Sequential()\n",
        "\n",
        "model_CNN1.add(layers.Convolution2D(filters=32, kernel_size=[5,5], padding='same',input_shape=x_train.shape[1:], activation='relu'))\n",
        "model_CNN1.add(layers.MaxPooling2D(pool_size=(2, 2), strides=2))\n",
        "\n",
        "model_CNN1.add(layers.Convolution2D(filters=32, kernel_size=[5,5],padding='same', activation= 'relu'))\n",
        "model_CNN1.add(layers.MaxPooling2D(pool_size=(2, 2), strides=2))\n",
        "\n",
        "model_CNN1.add(layers.Convolution2D(filters=32, kernel_size=[5,5],padding='same', activation= 'relu'))\n",
        "model_CNN1.add(layers.MaxPooling2D(pool_size=(2, 2), strides=2))\n",
        "\n",
        "model_CNN1.add(layers.Convolution2D(filters=32, kernel_size=[5,5],padding='same', activation= 'relu')) #try to use selu\n",
        "model_CNN1.add(layers.MaxPooling2D(pool_size=(2, 2), strides=2))\n",
        "\n",
        "model_CNN1.add(layers.Flatten())\n",
        "\n",
        "model_CNN1.add(layers.Dense(units=500, activation='relu'))\n",
        "model_CNN1.add(layers.Dense(units=num_classes, activation='softmax')) \n",
        "# Train model\n",
        "adam = tf.optimizers.Adam()\n",
        "model_CNN1.compile(loss='categorical_crossentropy',\n",
        "              optimizer=adam,\n",
        "              metrics=['top_k_categorical_accuracy'])\n",
        "print(model_CNN1.summary())"
      ],
      "execution_count": 10,
      "outputs": [
        {
          "output_type": "stream",
          "text": [
            "Model: \"sequential_1\"\n",
            "_________________________________________________________________\n",
            "Layer (type)                 Output Shape              Param #   \n",
            "=================================================================\n",
            "conv2d (Conv2D)              (None, 28, 28, 32)        832       \n",
            "_________________________________________________________________\n",
            "max_pooling2d (MaxPooling2D) (None, 14, 14, 32)        0         \n",
            "_________________________________________________________________\n",
            "conv2d_1 (Conv2D)            (None, 14, 14, 32)        25632     \n",
            "_________________________________________________________________\n",
            "max_pooling2d_1 (MaxPooling2 (None, 7, 7, 32)          0         \n",
            "_________________________________________________________________\n",
            "conv2d_2 (Conv2D)            (None, 7, 7, 32)          25632     \n",
            "_________________________________________________________________\n",
            "max_pooling2d_2 (MaxPooling2 (None, 3, 3, 32)          0         \n",
            "_________________________________________________________________\n",
            "conv2d_3 (Conv2D)            (None, 3, 3, 32)          25632     \n",
            "_________________________________________________________________\n",
            "max_pooling2d_3 (MaxPooling2 (None, 1, 1, 32)          0         \n",
            "_________________________________________________________________\n",
            "flatten (Flatten)            (None, 32)                0         \n",
            "_________________________________________________________________\n",
            "dense (Dense)                (None, 500)               16500     \n",
            "_________________________________________________________________\n",
            "dense_1 (Dense)              (None, 30)                15030     \n",
            "=================================================================\n",
            "Total params: 109,258\n",
            "Trainable params: 109,258\n",
            "Non-trainable params: 0\n",
            "_________________________________________________________________\n",
            "None\n"
          ],
          "name": "stdout"
        }
      ]
    },
    {
      "cell_type": "code",
      "metadata": {
        "id": "Q-62qVo2BXrS",
        "colab_type": "code",
        "colab": {
          "base_uri": "https://localhost:8080/",
          "height": 406
        },
        "outputId": "c1a718e8-d98c-4937-c453-703f9b507fdb"
      },
      "source": [
        "model_CNN1.fit(x = x_train, y = y_train, validation_data=(x_test, y_test), batch_size=quick_draw_cnn.batch_size, epochs=10)\n",
        "acc = model_CNN1.evaluate(x_test, y_test,batch_size=quick_draw_cnn.batch_size)\n",
        "print('Test accuracy:', acc[1])"
      ],
      "execution_count": 11,
      "outputs": [
        {
          "output_type": "stream",
          "text": [
            "Epoch 1/10\n",
            "9603/9603 [==============================] - 45s 5ms/step - loss: 0.5882 - top_k_categorical_accuracy: 0.9592 - val_loss: 0.4107 - val_top_k_categorical_accuracy: 0.9757\n",
            "Epoch 2/10\n",
            "9603/9603 [==============================] - 44s 5ms/step - loss: 0.3724 - top_k_categorical_accuracy: 0.9769 - val_loss: 0.3595 - val_top_k_categorical_accuracy: 0.9781\n",
            "Epoch 3/10\n",
            "9603/9603 [==============================] - 44s 5ms/step - loss: 0.3397 - top_k_categorical_accuracy: 0.9788 - val_loss: 0.3485 - val_top_k_categorical_accuracy: 0.9778\n",
            "Epoch 4/10\n",
            "9603/9603 [==============================] - 45s 5ms/step - loss: 0.3233 - top_k_categorical_accuracy: 0.9796 - val_loss: 0.3359 - val_top_k_categorical_accuracy: 0.9803\n",
            "Epoch 5/10\n",
            "9603/9603 [==============================] - 44s 5ms/step - loss: 0.3128 - top_k_categorical_accuracy: 0.9802 - val_loss: 0.3279 - val_top_k_categorical_accuracy: 0.9799\n",
            "Epoch 6/10\n",
            "9603/9603 [==============================] - 44s 5ms/step - loss: 0.3060 - top_k_categorical_accuracy: 0.9807 - val_loss: 0.3312 - val_top_k_categorical_accuracy: 0.9802\n",
            "Epoch 7/10\n",
            "9603/9603 [==============================] - 45s 5ms/step - loss: 0.3010 - top_k_categorical_accuracy: 0.9809 - val_loss: 0.3333 - val_top_k_categorical_accuracy: 0.9797\n",
            "Epoch 8/10\n",
            "9603/9603 [==============================] - 45s 5ms/step - loss: 0.2967 - top_k_categorical_accuracy: 0.9812 - val_loss: 0.3229 - val_top_k_categorical_accuracy: 0.9796\n",
            "Epoch 9/10\n",
            "9603/9603 [==============================] - 45s 5ms/step - loss: 0.2932 - top_k_categorical_accuracy: 0.9813 - val_loss: 0.3306 - val_top_k_categorical_accuracy: 0.9797\n",
            "Epoch 10/10\n",
            "9603/9603 [==============================] - 44s 5ms/step - loss: 0.2904 - top_k_categorical_accuracy: 0.9816 - val_loss: 0.3350 - val_top_k_categorical_accuracy: 0.9786\n",
            "79/79 [==============================] - 0s 3ms/step - loss: 0.3350 - top_k_categorical_accuracy: 0.9786\n",
            "Test accuracy: 0.978600025177002\n"
          ],
          "name": "stdout"
        }
      ]
    },
    {
      "cell_type": "markdown",
      "metadata": {
        "id": "Pjo2iq2kwhQ8",
        "colab_type": "text"
      },
      "source": [
        ""
      ]
    },
    {
      "cell_type": "code",
      "metadata": {
        "colab_type": "code",
        "id": "K6LpPhNg6p0z",
        "colab": {
          "base_uri": "https://localhost:8080/",
          "height": 403
        },
        "outputId": "3c358c83-6477-46a8-8a0e-f36e63611fc1"
      },
      "source": [
        "from tensorflow.python.keras.layers import Dense,LSTM\n",
        "from tensorflow.python.keras import Sequential\n",
        "\n",
        "model_CNN2 = Sequential()\n",
        "\n",
        "model_CNN2 .add(layers.Convolution2D(filters=32, kernel_size=[5,5], padding='same',input_shape=x_train.shape[1:], activation='relu'))\n",
        "model_CNN2 .add(layers.MaxPooling2D(pool_size=(2, 2), strides=2))\n",
        "\n",
        "model_CNN2 .add(layers.Convolution2D(filters=32, kernel_size=[5,5],padding='same', activation= 'relu'))\n",
        "model_CNN2 .add(layers.MaxPooling2D(pool_size=(2, 2), strides=2))\n",
        "\n",
        "#model_CNN2 .add(layers.Convolution2D(filters=32, kernel_size=[5,5],padding='same', activation= 'relu'))\n",
        "#model_CNN2 .add(layers.MaxPooling2D(pool_size=(2, 2), strides=2))\n",
        "\n",
        "model_CNN2 .add(layers.Flatten())\n",
        "\n",
        "model_CNN2 .add(layers.Dense(units=500, activation='relu'))\n",
        "\n",
        "model_CNN2 .add(layers.Dense(units=num_classes, activation='softmax')) \n",
        "# Train model\n",
        "adam = tf.optimizers.Adam()\n",
        "\n",
        "model_CNN2 .compile(loss='categorical_crossentropy',\n",
        "              optimizer=adam,\n",
        "              metrics=['top_k_categorical_accuracy'])\n",
        "print(model_CNN2 .summary())"
      ],
      "execution_count": 12,
      "outputs": [
        {
          "output_type": "stream",
          "text": [
            "Model: \"sequential_2\"\n",
            "_________________________________________________________________\n",
            "Layer (type)                 Output Shape              Param #   \n",
            "=================================================================\n",
            "conv2d_4 (Conv2D)            (None, 28, 28, 32)        832       \n",
            "_________________________________________________________________\n",
            "max_pooling2d_4 (MaxPooling2 (None, 14, 14, 32)        0         \n",
            "_________________________________________________________________\n",
            "conv2d_5 (Conv2D)            (None, 14, 14, 32)        25632     \n",
            "_________________________________________________________________\n",
            "max_pooling2d_5 (MaxPooling2 (None, 7, 7, 32)          0         \n",
            "_________________________________________________________________\n",
            "flatten_1 (Flatten)          (None, 1568)              0         \n",
            "_________________________________________________________________\n",
            "dense_2 (Dense)              (None, 500)               784500    \n",
            "_________________________________________________________________\n",
            "dense_3 (Dense)              (None, 30)                15030     \n",
            "=================================================================\n",
            "Total params: 825,994\n",
            "Trainable params: 825,994\n",
            "Non-trainable params: 0\n",
            "_________________________________________________________________\n",
            "None\n"
          ],
          "name": "stdout"
        }
      ]
    },
    {
      "cell_type": "code",
      "metadata": {
        "colab_type": "code",
        "id": "CgCjk-uV7N_7",
        "colab": {
          "base_uri": "https://localhost:8080/",
          "height": 406
        },
        "outputId": "9ef90692-8466-4cd0-f2ad-403865f8e6a6"
      },
      "source": [
        "model_CNN2.fit(x = x_train, y = y_train, validation_data=(x_test, y_test), batch_size=quick_draw_cnn.batch_size, epochs=10)\n",
        "acc = model_CNN2.evaluate(x_test, y_test,batch_size=quick_draw_cnn.batch_size)\n",
        "print('Test accuracy:', acc[1])"
      ],
      "execution_count": 13,
      "outputs": [
        {
          "output_type": "stream",
          "text": [
            "Epoch 1/10\n",
            "9603/9603 [==============================] - 39s 4ms/step - loss: 0.4658 - top_k_categorical_accuracy: 0.9680 - val_loss: 0.3546 - val_top_k_categorical_accuracy: 0.9770\n",
            "Epoch 2/10\n",
            "9603/9603 [==============================] - 39s 4ms/step - loss: 0.3106 - top_k_categorical_accuracy: 0.9802 - val_loss: 0.3202 - val_top_k_categorical_accuracy: 0.9801\n",
            "Epoch 3/10\n",
            "9603/9603 [==============================] - 39s 4ms/step - loss: 0.2756 - top_k_categorical_accuracy: 0.9827 - val_loss: 0.3014 - val_top_k_categorical_accuracy: 0.9821\n",
            "Epoch 4/10\n",
            "9603/9603 [==============================] - 38s 4ms/step - loss: 0.2535 - top_k_categorical_accuracy: 0.9846 - val_loss: 0.3044 - val_top_k_categorical_accuracy: 0.9813\n",
            "Epoch 5/10\n",
            "9603/9603 [==============================] - 40s 4ms/step - loss: 0.2365 - top_k_categorical_accuracy: 0.9860 - val_loss: 0.3100 - val_top_k_categorical_accuracy: 0.9816\n",
            "Epoch 6/10\n",
            "9603/9603 [==============================] - 39s 4ms/step - loss: 0.2228 - top_k_categorical_accuracy: 0.9873 - val_loss: 0.3177 - val_top_k_categorical_accuracy: 0.9808\n",
            "Epoch 7/10\n",
            "9603/9603 [==============================] - 39s 4ms/step - loss: 0.2106 - top_k_categorical_accuracy: 0.9884 - val_loss: 0.3266 - val_top_k_categorical_accuracy: 0.9801\n",
            "Epoch 8/10\n",
            "9603/9603 [==============================] - 39s 4ms/step - loss: 0.1999 - top_k_categorical_accuracy: 0.9892 - val_loss: 0.3337 - val_top_k_categorical_accuracy: 0.9797\n",
            "Epoch 9/10\n",
            "9603/9603 [==============================] - 39s 4ms/step - loss: 0.1899 - top_k_categorical_accuracy: 0.9901 - val_loss: 0.3524 - val_top_k_categorical_accuracy: 0.9785\n",
            "Epoch 10/10\n",
            "9603/9603 [==============================] - 38s 4ms/step - loss: 0.1812 - top_k_categorical_accuracy: 0.9911 - val_loss: 0.3578 - val_top_k_categorical_accuracy: 0.9794\n",
            "79/79 [==============================] - 0s 2ms/step - loss: 0.3578 - top_k_categorical_accuracy: 0.9794\n",
            "Test accuracy: 0.9793999791145325\n"
          ],
          "name": "stdout"
        }
      ]
    },
    {
      "cell_type": "code",
      "metadata": {
        "colab_type": "code",
        "id": "gUTZmj6PLNZW",
        "colab": {
          "base_uri": "https://localhost:8080/",
          "height": 470
        },
        "outputId": "8977828b-d533-4e56-e4c6-2b19f23098be"
      },
      "source": [
        "from tensorflow.python.keras.layers import Dense,LSTM\n",
        "from tensorflow.python.keras import Sequential\n",
        "\n",
        "model_CNN3 = Sequential()\n",
        "\n",
        "model_CNN3 .add(layers.Convolution2D(filters=32, kernel_size=[5,5], padding='same',input_shape=x_train.shape[1:], activation='selu'))\n",
        "model_CNN3 .add(layers.MaxPooling2D(pool_size=(2, 2), strides=2))\n",
        "\n",
        "model_CNN3 .add(layers.Convolution2D(filters=32, kernel_size=[5,5],padding='same', activation= 'selu'))\n",
        "model_CNN3 .add(layers.MaxPooling2D(pool_size=(2, 2), strides=2))\n",
        "\n",
        "model_CNN3 .add(layers.Convolution2D(filters=32, kernel_size=[5,5],padding='same', activation= 'selu'))\n",
        "model_CNN3 .add(layers.MaxPooling2D(pool_size=(2, 2), strides=2))\n",
        "\n",
        "model_CNN3 .add(layers.Flatten())\n",
        "\n",
        "model_CNN3 .add(layers.Dense(units=500, activation='selu'))\n",
        "\n",
        "model_CNN3 .add(layers.Dense(units=num_classes, activation='softmax')) \n",
        "# Train model\n",
        "adam = tf.optimizers.Adam()\n",
        "\n",
        "model_CNN3 .compile(loss='categorical_crossentropy',\n",
        "              optimizer=adam,\n",
        "              metrics=['top_k_categorical_accuracy'])\n",
        "print(model_CNN3 .summary())"
      ],
      "execution_count": 14,
      "outputs": [
        {
          "output_type": "stream",
          "text": [
            "Model: \"sequential_3\"\n",
            "_________________________________________________________________\n",
            "Layer (type)                 Output Shape              Param #   \n",
            "=================================================================\n",
            "conv2d_6 (Conv2D)            (None, 28, 28, 32)        832       \n",
            "_________________________________________________________________\n",
            "max_pooling2d_6 (MaxPooling2 (None, 14, 14, 32)        0         \n",
            "_________________________________________________________________\n",
            "conv2d_7 (Conv2D)            (None, 14, 14, 32)        25632     \n",
            "_________________________________________________________________\n",
            "max_pooling2d_7 (MaxPooling2 (None, 7, 7, 32)          0         \n",
            "_________________________________________________________________\n",
            "conv2d_8 (Conv2D)            (None, 7, 7, 32)          25632     \n",
            "_________________________________________________________________\n",
            "max_pooling2d_8 (MaxPooling2 (None, 3, 3, 32)          0         \n",
            "_________________________________________________________________\n",
            "flatten_2 (Flatten)          (None, 288)               0         \n",
            "_________________________________________________________________\n",
            "dense_4 (Dense)              (None, 500)               144500    \n",
            "_________________________________________________________________\n",
            "dense_5 (Dense)              (None, 30)                15030     \n",
            "=================================================================\n",
            "Total params: 211,626\n",
            "Trainable params: 211,626\n",
            "Non-trainable params: 0\n",
            "_________________________________________________________________\n",
            "None\n"
          ],
          "name": "stdout"
        }
      ]
    },
    {
      "cell_type": "code",
      "metadata": {
        "id": "3HYWLomxLnUX",
        "colab_type": "code",
        "colab": {
          "base_uri": "https://localhost:8080/",
          "height": 406
        },
        "outputId": "44acc573-b74f-4afb-fc5a-c3a121d7f493"
      },
      "source": [
        "model_CNN3.fit(x = x_train, y = y_train, validation_data=(x_test, y_test), batch_size=quick_draw_cnn.batch_size, epochs=10)\n",
        "acc = model_CNN3.evaluate(x_test, y_test,batch_size=quick_draw_cnn.batch_size)\n",
        "print('Test accuracy:', acc[1])"
      ],
      "execution_count": 15,
      "outputs": [
        {
          "output_type": "stream",
          "text": [
            "Epoch 1/10\n",
            "9603/9603 [==============================] - 42s 4ms/step - loss: 0.5588 - top_k_categorical_accuracy: 0.9633 - val_loss: 0.4368 - val_top_k_categorical_accuracy: 0.9707\n",
            "Epoch 2/10\n",
            "9603/9603 [==============================] - 42s 4ms/step - loss: 0.3904 - top_k_categorical_accuracy: 0.9758 - val_loss: 0.4019 - val_top_k_categorical_accuracy: 0.9756\n",
            "Epoch 3/10\n",
            "9603/9603 [==============================] - 42s 4ms/step - loss: 0.3599 - top_k_categorical_accuracy: 0.9777 - val_loss: 0.3803 - val_top_k_categorical_accuracy: 0.9754\n",
            "Epoch 4/10\n",
            "9603/9603 [==============================] - 42s 4ms/step - loss: 0.3449 - top_k_categorical_accuracy: 0.9787 - val_loss: 0.3694 - val_top_k_categorical_accuracy: 0.9765\n",
            "Epoch 5/10\n",
            "9603/9603 [==============================] - 42s 4ms/step - loss: 0.3328 - top_k_categorical_accuracy: 0.9795 - val_loss: 0.3881 - val_top_k_categorical_accuracy: 0.9764\n",
            "Epoch 6/10\n",
            "9603/9603 [==============================] - 41s 4ms/step - loss: 0.3260 - top_k_categorical_accuracy: 0.9799 - val_loss: 0.3825 - val_top_k_categorical_accuracy: 0.9755\n",
            "Epoch 7/10\n",
            "9603/9603 [==============================] - 41s 4ms/step - loss: 0.3195 - top_k_categorical_accuracy: 0.9802 - val_loss: 0.3899 - val_top_k_categorical_accuracy: 0.9766\n",
            "Epoch 8/10\n",
            "9603/9603 [==============================] - 41s 4ms/step - loss: 0.3135 - top_k_categorical_accuracy: 0.9806 - val_loss: 0.3698 - val_top_k_categorical_accuracy: 0.9757\n",
            "Epoch 9/10\n",
            "9603/9603 [==============================] - 42s 4ms/step - loss: 0.3095 - top_k_categorical_accuracy: 0.9808 - val_loss: 0.3687 - val_top_k_categorical_accuracy: 0.9770\n",
            "Epoch 10/10\n",
            "9603/9603 [==============================] - 41s 4ms/step - loss: 0.3061 - top_k_categorical_accuracy: 0.9812 - val_loss: 0.3786 - val_top_k_categorical_accuracy: 0.9743\n",
            "79/79 [==============================] - 0s 3ms/step - loss: 0.3786 - top_k_categorical_accuracy: 0.9743\n",
            "Test accuracy: 0.9743000268936157\n"
          ],
          "name": "stdout"
        }
      ]
    },
    {
      "cell_type": "code",
      "metadata": {
        "id": "uI-UzVPDihBp",
        "colab_type": "code",
        "colab": {
          "base_uri": "https://localhost:8080/",
          "height": 315
        },
        "outputId": "47bb1a23-33d3-463e-a44c-a2fc0cd442ae"
      },
      "source": [
        "import matplotlib.pyplot as plt\n",
        "from random import randint\n",
        "%matplotlib inline  \n",
        "#idx = randint(0, len(x_test))\n",
        "#idx=57\n",
        "idx=50\n",
        "img = x_test[idx]\n",
        "plt.imshow(img.squeeze()) \n",
        "pred_CNN1 = model_CNN1.predict(np.expand_dims(img, axis=0))[0]\n",
        "ind_CNN1 = (-pred_CNN1).argsort()[:5]\n",
        "latex_CNN1= [class_names[x] for x in ind_CNN1]\n",
        "print(latex_CNN1)\n",
        "\n",
        "pred_CNN2 = model_CNN2.predict(np.expand_dims(img, axis=0))[0]\n",
        "ind_CNN2 = (-pred_CNN2).argsort()[:5]\n",
        "latex_CNN2 = [class_names[x] for x in ind_CNN2]\n",
        "print(latex_CNN2)\n",
        "\n",
        "pred_CNN3 = model_CNN3.predict(np.expand_dims(img, axis=0))[0]\n",
        "ind_CNN3 = (-pred_CNN3).argsort()[:5]\n",
        "latex_CNN3 = [class_names[x] for x in ind_CNN3]\n",
        "print(latex_CNN3)\n",
        "\n"
      ],
      "execution_count": 16,
      "outputs": [
        {
          "output_type": "stream",
          "text": [
            "['tree', 'key', 'hammer', 'axe', 'lightning']\n",
            "['tree', 'key', 'hammer', 'flower', 'carrot']\n",
            "['tree', 'key', 'hammer', 'flower', 'carrot']\n"
          ],
          "name": "stdout"
        },
        {
          "output_type": "display_data",
          "data": {
            "image/png": "[encoded data removed]",
            "text/plain": [
              "<Figure size 432x288 with 1 Axes>"
            ]
          },
          "metadata": {
            "tags": [],
            "needs_background": "light"
          }
        }
      ]
    },
    {
      "cell_type": "code",
      "metadata": {
        "id": "q1BdX-YHBkeh",
        "colab_type": "code",
        "colab": {
          "base_uri": "https://localhost:8080/",
          "height": 67
        },
        "outputId": "944ada66-b43f-4106-f901-f0e31b09c23b"
      },
      "source": [
        "scores = model_CNN1.evaluate(x_test, y_test, verbose=0)\n",
        "print(\"Accuracy: %.2f%%\" % (scores[1]*100))\n",
        "scores = model_CNN2.evaluate(x_test, y_test, verbose=0)\n",
        "print(\"Accuracy: %.2f%%\" % (scores[1]*100))\n",
        "\n",
        "scores = model_CNN3.evaluate(x_test, y_test, verbose=0)\n",
        "print(\"Accuracy: %.2f%%\" % (scores[1]*100))"
      ],
      "execution_count": 17,
      "outputs": [
        {
          "output_type": "stream",
          "text": [
            "Accuracy: 97.86%\n",
            "Accuracy: 97.94%\n",
            "Accuracy: 97.43%\n"
          ],
          "name": "stdout"
        }
      ]
    },
    {
      "cell_type": "code",
      "metadata": {
        "id": "a-oMvylaBk1m",
        "colab_type": "code",
        "colab": {
          "base_uri": "https://localhost:8080/",
          "height": 34
        },
        "outputId": "313ca20c-bd0a-4d39-84dd-7572cc1a9bed"
      },
      "source": [
        "import numpy\n",
        "from keras.datasets import imdb\n",
        "from keras.models import Sequential\n",
        "from keras.layers import Dense\n",
        "from keras.layers import LSTM\n",
        "from keras.layers.embeddings import Embedding\n",
        "from keras.preprocessing import sequence\n",
        "\n",
        "# fix random seed for reproducibility\n",
        "numpy.random.seed(7)"
      ],
      "execution_count": 18,
      "outputs": [
        {
          "output_type": "stream",
          "text": [
            "Using TensorFlow backend.\n"
          ],
          "name": "stderr"
        }
      ]
    },
    {
      "cell_type": "code",
      "metadata": {
        "id": "qFE7XI8snu0X",
        "colab_type": "code",
        "colab": {}
      },
      "source": [
        "x_train = np.array(x_train).reshape((-1, 28, 28))\n",
        "x_test = np.array(x_test).reshape((-1, 28, 28))"
      ],
      "execution_count": 19,
      "outputs": []
    },
    {
      "cell_type": "code",
      "metadata": {
        "id": "D6GOKoTcn-ih",
        "colab_type": "code",
        "colab": {
          "base_uri": "https://localhost:8080/",
          "height": 235
        },
        "outputId": "01ac1601-a355-45ed-edd6-2809de09561c"
      },
      "source": [
        "from tensorflow.python.keras.layers import Dense,LSTM\n",
        "from tensorflow.python.keras import Sequential\n",
        "model_LSTM1 =Sequential()\n",
        "model_LSTM1.add(LSTM(256, input_shape=(x_train.shape[1], x_train.shape[2])))\n",
        "model_LSTM1.add(Dense(30,activation='sigmoid'))\n",
        "model_LSTM1.compile(loss='categorical_crossentropy', optimizer='adam', metrics=['accuracy'])\n",
        "print(model_LSTM1.summary())"
      ],
      "execution_count": 20,
      "outputs": [
        {
          "output_type": "stream",
          "text": [
            "Model: \"sequential_4\"\n",
            "_________________________________________________________________\n",
            "Layer (type)                 Output Shape              Param #   \n",
            "=================================================================\n",
            "lstm (LSTM)                  (None, 256)               291840    \n",
            "_________________________________________________________________\n",
            "dense_6 (Dense)              (None, 30)                7710      \n",
            "=================================================================\n",
            "Total params: 299,550\n",
            "Trainable params: 299,550\n",
            "Non-trainable params: 0\n",
            "_________________________________________________________________\n",
            "None\n"
          ],
          "name": "stdout"
        }
      ]
    },
    {
      "cell_type": "code",
      "metadata": {
        "id": "PGsJfhacoEIe",
        "colab_type": "code",
        "colab": {
          "base_uri": "https://localhost:8080/",
          "height": 386
        },
        "outputId": "500dd42a-dc92-4d0e-915d-3a6472d16fc0"
      },
      "source": [
        "model_LSTM1.fit(x_train, y_train,\n",
        "          batch_size=256,\n",
        "          epochs=10,\n",
        "          validation_data=(x_test, y_test))\n",
        "acc = model_LSTM1.evaluate(x_test, y_test,batch_size=256)\n",
        "print('Test accuracy:', acc[1])\n"
      ],
      "execution_count": 21,
      "outputs": [
        {
          "output_type": "stream",
          "text": [
            "Epoch 1/10\n",
            "4802/4802 [==============================] - 32s 7ms/step - loss: 0.9412 - accuracy: 0.7234 - val_loss: 0.6282 - val_accuracy: 0.8174\n",
            "Epoch 2/10\n",
            "4802/4802 [==============================] - 32s 7ms/step - loss: 0.5266 - accuracy: 0.8470 - val_loss: 0.4733 - val_accuracy: 0.8601\n",
            "Epoch 3/10\n",
            "4802/4802 [==============================] - 32s 7ms/step - loss: 0.4340 - accuracy: 0.8742 - val_loss: 0.4269 - val_accuracy: 0.8710\n",
            "Epoch 4/10\n",
            "4802/4802 [==============================] - 32s 7ms/step - loss: 0.3884 - accuracy: 0.8871 - val_loss: 0.3906 - val_accuracy: 0.8835\n",
            "Epoch 5/10\n",
            "4802/4802 [==============================] - 32s 7ms/step - loss: 0.3585 - accuracy: 0.8957 - val_loss: 0.3802 - val_accuracy: 0.8900\n",
            "Epoch 6/10\n",
            "4802/4802 [==============================] - 32s 7ms/step - loss: 0.3376 - accuracy: 0.9017 - val_loss: 0.3682 - val_accuracy: 0.8927\n",
            "Epoch 7/10\n",
            "4802/4802 [==============================] - 32s 7ms/step - loss: 0.3212 - accuracy: 0.9063 - val_loss: 0.3617 - val_accuracy: 0.8958\n",
            "Epoch 8/10\n",
            "4802/4802 [==============================] - 32s 7ms/step - loss: 0.3073 - accuracy: 0.9101 - val_loss: 0.3529 - val_accuracy: 0.8982\n",
            "Epoch 9/10\n",
            "4802/4802 [==============================] - 32s 7ms/step - loss: 0.2964 - accuracy: 0.9133 - val_loss: 0.3490 - val_accuracy: 0.9003\n",
            "Epoch 10/10\n",
            "4802/4802 [==============================] - 32s 7ms/step - loss: 0.2858 - accuracy: 0.9163 - val_loss: 0.3536 - val_accuracy: 0.9005\n",
            "40/40 [==============================] - 0s 3ms/step - loss: 0.3536 - accuracy: 0.9005\n",
            "Test accuracy: 0.9004999995231628\n"
          ],
          "name": "stdout"
        }
      ]
    },
    {
      "cell_type": "code",
      "metadata": {
        "colab_type": "code",
        "id": "3DGOoeY78JL0",
        "colab": {
          "base_uri": "https://localhost:8080/",
          "height": 235
        },
        "outputId": "6b00fa6a-0129-44a9-e632-76913557c340"
      },
      "source": [
        "from tensorflow.python.keras.layers import Dense,LSTM\n",
        "from tensorflow.python.keras import Sequential\n",
        "model_LSTM2 =Sequential()\n",
        "model_LSTM2.add(LSTM(256, input_shape=(x_train.shape[1], x_train.shape[2])))\n",
        "model_LSTM2.add(Dense(30,activation='softmax'))  # CHANGE HERE RELU to sigmoid\n",
        "model_LSTM2.compile(loss='categorical_crossentropy', optimizer='adam', metrics=['accuracy'])\n",
        "print(model_LSTM2.summary())"
      ],
      "execution_count": 22,
      "outputs": [
        {
          "output_type": "stream",
          "text": [
            "Model: \"sequential_5\"\n",
            "_________________________________________________________________\n",
            "Layer (type)                 Output Shape              Param #   \n",
            "=================================================================\n",
            "lstm_1 (LSTM)                (None, 256)               291840    \n",
            "_________________________________________________________________\n",
            "dense_7 (Dense)              (None, 30)                7710      \n",
            "=================================================================\n",
            "Total params: 299,550\n",
            "Trainable params: 299,550\n",
            "Non-trainable params: 0\n",
            "_________________________________________________________________\n",
            "None\n"
          ],
          "name": "stdout"
        }
      ]
    },
    {
      "cell_type": "code",
      "metadata": {
        "colab_type": "code",
        "id": "ZWjz3aNq-0yN",
        "colab": {
          "base_uri": "https://localhost:8080/",
          "height": 386
        },
        "outputId": "35d49423-8b87-4a41-e672-8da15111db0c"
      },
      "source": [
        "model_LSTM2.fit(x_train, y_train,\n",
        "          batch_size=256,\n",
        "          epochs=10,\n",
        "          validation_data=(x_test, y_test))\n",
        "acc = model_LSTM2.evaluate(x_test, y_test,batch_size=256)\n",
        "print('Test accuracy:', acc[1])\n"
      ],
      "execution_count": 23,
      "outputs": [
        {
          "output_type": "stream",
          "text": [
            "Epoch 1/10\n",
            "4802/4802 [==============================] - 33s 7ms/step - loss: 0.8747 - accuracy: 0.7415 - val_loss: 0.6043 - val_accuracy: 0.8209\n",
            "Epoch 2/10\n",
            "4802/4802 [==============================] - 32s 7ms/step - loss: 0.4951 - accuracy: 0.8554 - val_loss: 0.4737 - val_accuracy: 0.8619\n",
            "Epoch 3/10\n",
            "4802/4802 [==============================] - 32s 7ms/step - loss: 0.4137 - accuracy: 0.8794 - val_loss: 0.4047 - val_accuracy: 0.8829\n",
            "Epoch 4/10\n",
            "4802/4802 [==============================] - 32s 7ms/step - loss: 0.3719 - accuracy: 0.8919 - val_loss: 0.3837 - val_accuracy: 0.8855\n",
            "Epoch 5/10\n",
            "4802/4802 [==============================] - 32s 7ms/step - loss: 0.3444 - accuracy: 0.8996 - val_loss: 0.3770 - val_accuracy: 0.8892\n",
            "Epoch 6/10\n",
            "4802/4802 [==============================] - 32s 7ms/step - loss: 0.3249 - accuracy: 0.9053 - val_loss: 0.3667 - val_accuracy: 0.8960\n",
            "Epoch 7/10\n",
            "4802/4802 [==============================] - 32s 7ms/step - loss: 0.3094 - accuracy: 0.9098 - val_loss: 0.3475 - val_accuracy: 0.9010\n",
            "Epoch 8/10\n",
            "4802/4802 [==============================] - 32s 7ms/step - loss: 0.2970 - accuracy: 0.9131 - val_loss: 0.3500 - val_accuracy: 0.8987\n",
            "Epoch 9/10\n",
            "4802/4802 [==============================] - 33s 7ms/step - loss: 0.2861 - accuracy: 0.9160 - val_loss: 0.3491 - val_accuracy: 0.9014\n",
            "Epoch 10/10\n",
            "4802/4802 [==============================] - 32s 7ms/step - loss: 0.2766 - accuracy: 0.9185 - val_loss: 0.3497 - val_accuracy: 0.9011\n",
            "40/40 [==============================] - 0s 4ms/step - loss: 0.3497 - accuracy: 0.9011\n",
            "Test accuracy: 0.9010999798774719\n"
          ],
          "name": "stdout"
        }
      ]
    },
    {
      "cell_type": "code",
      "metadata": {
        "colab_type": "code",
        "id": "sXaiWKP9I6pn",
        "colab": {
          "base_uri": "https://localhost:8080/",
          "height": 235
        },
        "outputId": "51b0238c-be8b-4ccb-9469-21716418e81b"
      },
      "source": [
        "from tensorflow.python.keras.layers import Dense,LSTM\n",
        "from tensorflow.python.keras import Sequential\n",
        "model_LSTM3 =Sequential()\n",
        "model_LSTM3.add(LSTM(256, input_shape=(x_train.shape[1], x_train.shape[2])))\n",
        "model_LSTM3.add(Dense(30,activation='softplus'))  # CHANGE HERE RELU to sigmoid\n",
        "model_LSTM3.compile(loss='categorical_crossentropy', optimizer='adam', metrics=['accuracy'])\n",
        "print(model_LSTM3.summary())"
      ],
      "execution_count": 24,
      "outputs": [
        {
          "output_type": "stream",
          "text": [
            "Model: \"sequential_6\"\n",
            "_________________________________________________________________\n",
            "Layer (type)                 Output Shape              Param #   \n",
            "=================================================================\n",
            "lstm_2 (LSTM)                (None, 256)               291840    \n",
            "_________________________________________________________________\n",
            "dense_8 (Dense)              (None, 30)                7710      \n",
            "=================================================================\n",
            "Total params: 299,550\n",
            "Trainable params: 299,550\n",
            "Non-trainable params: 0\n",
            "_________________________________________________________________\n",
            "None\n"
          ],
          "name": "stdout"
        }
      ]
    },
    {
      "cell_type": "code",
      "metadata": {
        "id": "w-GkKnIZJHow",
        "colab_type": "code",
        "colab": {
          "base_uri": "https://localhost:8080/",
          "height": 386
        },
        "outputId": "54090c36-f09d-45ff-c536-6880d6ac1a4b"
      },
      "source": [
        "model_LSTM3.fit(x_train, y_train,\n",
        "          batch_size=256,\n",
        "          epochs=10,\n",
        "          validation_data=(x_test, y_test))\n",
        "acc = model_LSTM3.evaluate(x_test, y_test,batch_size=256)\n",
        "print('Test accuracy:', acc[1])"
      ],
      "execution_count": 25,
      "outputs": [
        {
          "output_type": "stream",
          "text": [
            "Epoch 1/10\n",
            "4802/4802 [==============================] - 32s 7ms/step - loss: 0.9348 - accuracy: 0.7253 - val_loss: 0.6252 - val_accuracy: 0.8175\n",
            "Epoch 2/10\n",
            "4802/4802 [==============================] - 32s 7ms/step - loss: 0.5259 - accuracy: 0.8470 - val_loss: 0.4727 - val_accuracy: 0.8644\n",
            "Epoch 3/10\n",
            "4802/4802 [==============================] - 32s 7ms/step - loss: 0.4323 - accuracy: 0.8744 - val_loss: 0.4266 - val_accuracy: 0.8781\n",
            "Epoch 4/10\n",
            "4802/4802 [==============================] - 31s 7ms/step - loss: 0.3863 - accuracy: 0.8880 - val_loss: 0.4013 - val_accuracy: 0.8844\n",
            "Epoch 5/10\n",
            "4802/4802 [==============================] - 32s 7ms/step - loss: 0.3572 - accuracy: 0.8962 - val_loss: 0.3764 - val_accuracy: 0.8907\n",
            "Epoch 6/10\n",
            "4802/4802 [==============================] - 32s 7ms/step - loss: 0.3360 - accuracy: 0.9023 - val_loss: 0.3715 - val_accuracy: 0.8911\n",
            "Epoch 7/10\n",
            "4802/4802 [==============================] - 32s 7ms/step - loss: 0.3204 - accuracy: 0.9065 - val_loss: 0.3636 - val_accuracy: 0.8925\n",
            "Epoch 8/10\n",
            "4802/4802 [==============================] - 32s 7ms/step - loss: 0.3068 - accuracy: 0.9103 - val_loss: 0.3551 - val_accuracy: 0.8995\n",
            "Epoch 9/10\n",
            "4802/4802 [==============================] - 32s 7ms/step - loss: 0.2955 - accuracy: 0.9136 - val_loss: 0.3626 - val_accuracy: 0.8954\n",
            "Epoch 10/10\n",
            "4802/4802 [==============================] - 31s 7ms/step - loss: 0.2858 - accuracy: 0.9163 - val_loss: 0.3520 - val_accuracy: 0.8985\n",
            "40/40 [==============================] - 0s 3ms/step - loss: 0.3520 - accuracy: 0.8985\n",
            "Test accuracy: 0.8985000252723694\n"
          ],
          "name": "stdout"
        }
      ]
    },
    {
      "cell_type": "code",
      "metadata": {
        "id": "Hgt7kQvTp4T5",
        "colab_type": "code",
        "colab": {
          "base_uri": "https://localhost:8080/",
          "height": 67
        },
        "outputId": "ac21716e-559a-40df-ccc2-b91a552c2a66"
      },
      "source": [
        "scores = model_LSTM1.evaluate(x_test, y_test, verbose=0)\n",
        "print(\"Accuracy: %.2f%%\" % (scores[1]*100))\n",
        "scores = model_LSTM2.evaluate(x_test, y_test, verbose=0)\n",
        "print(\"Accuracy: %.2f%%\" % (scores[1]*100))\n",
        "scores = model_LSTM3.evaluate(x_test, y_test, verbose=0)\n",
        "print(\"Accuracy: %.2f%%\" % (scores[1]*100))\n",
        "\n"
      ],
      "execution_count": 26,
      "outputs": [
        {
          "output_type": "stream",
          "text": [
            "Accuracy: 90.05%\n",
            "Accuracy: 90.11%\n",
            "Accuracy: 89.85%\n"
          ],
          "name": "stdout"
        }
      ]
    },
    {
      "cell_type": "code",
      "metadata": {
        "id": "y80oSzFZp5F4",
        "colab_type": "code",
        "colab": {
          "base_uri": "https://localhost:8080/",
          "height": 483
        },
        "outputId": "72c9ede6-a51b-48f4-ac12-b56af0bfdb60"
      },
      "source": [
        "import matplotlib.pyplot as plt\n",
        "from random import randint\n",
        "%matplotlib inline  \n",
        "#idx = randint(0, len(x_test))\n",
        "#idx=666\n",
        "img = x_test[idx]\n",
        "plt.imshow(img.squeeze()) \n",
        "pred_LSTM1 = model_LSTM1.predict(np.expand_dims(img, axis=0))[0]\n",
        "ind_LSTM1 = (-pred_LSTM1).argsort()[:5]\n",
        "latex_LSTM1 = [class_names[x] for x in ind_LSTM1]\n",
        "print(\"This prediction of LSTM 1\")\n",
        "print(latex_LSTM1)\n",
        "\n",
        "pred_LSTM2 = model_LSTM2.predict(np.expand_dims(img, axis=0))[0]\n",
        "ind_LSTM2 = (-pred_LSTM2).argsort()[:5]\n",
        "latex_LSTM2 = [class_names[x] for x in ind_LSTM2]\n",
        "print(\"This prediction of LSTM 2\")\n",
        "print(latex_LSTM2)\n",
        "\n",
        "\n",
        "pred_LSTM3 = model_LSTM3.predict(np.expand_dims(img, axis=0))[0]\n",
        "ind_LSTM3 = (-pred_LSTM3).argsort()[:5]\n",
        "latex_LSTM3 = [class_names[x] for x in ind_LSTM3]\n",
        "print(\"This prediction of LSTM 3\")\n",
        "print(latex_LSTM3)\n",
        "\n",
        "\n",
        "\n",
        "#pred = model.predict(np.expand_dims(img, axis=0))[0]\n",
        "#ind = (-pred).argsort()[:5]\n",
        "#latex = [class_names[x] for x in ind]\n",
        "#print(latex)\n",
        "print(\"This is prediction of cnn 1\")\n",
        "print(latex_CNN1)\n",
        "print(\"This is prediction of cnn 2\")\n",
        "print(latex_CNN2)\n",
        "print()\n",
        "print(\"This is prediction of cnn 3\")\n",
        "print(latex_CNN3)\n"
      ],
      "execution_count": 27,
      "outputs": [
        {
          "output_type": "stream",
          "text": [
            "This prediction of LSTM 1\n",
            "['tree', 'key', 'flower', 'hammer', 'axe']\n",
            "This prediction of LSTM 2\n",
            "['tree', 'key', 'axe', 'hammer', 'flower']\n",
            "This prediction of LSTM 3\n",
            "['tree', 'hammer', 'axe', 'key', 'flower']\n",
            "This is prediction of cnn 1\n",
            "['tree', 'key', 'hammer', 'axe', 'lightning']\n",
            "This is prediction of cnn 2\n",
            "['tree', 'key', 'hammer', 'flower', 'carrot']\n",
            "\n",
            "This is prediction of cnn 3\n",
            "['tree', 'key', 'hammer', 'flower', 'carrot']\n"
          ],
          "name": "stdout"
        },
        {
          "output_type": "display_data",
          "data": {
            "image/png": "[encoded data removed]",
            "text/plain": [
              "<Figure size 432x288 with 1 Axes>"
            ]
          },
          "metadata": {
            "tags": [],
            "needs_background": "light"
          }
        }
      ]
    },
    {
      "cell_type": "code",
      "metadata": {
        "id": "H1axZUmgqG71",
        "colab_type": "code",
        "colab": {}
      },
      "source": [
        "def ensemble_predictions():\n",
        "    # Empty list of predicted labels for each of the neural networks.\n",
        "    pred_labels = []\n",
        "\n",
        "    # Classification accuracy on the test-set for each network.\n",
        "    test_accuracies = []\n"
      ],
      "execution_count": 28,
      "outputs": []
    }
  ]
}