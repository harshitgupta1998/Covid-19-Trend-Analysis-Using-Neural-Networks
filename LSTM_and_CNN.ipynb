{
  "nbformat": 4,
  "nbformat_minor": 0,
  "metadata": {
    "colab": {
      "name": "LSTM and CNN",
      "provenance": [],
      "collapsed_sections": [],
      "toc_visible": true,
      "machine_shape": "hm",
      "include_colab_link": true
    },
    "kernelspec": {
      "name": "python3",
      "display_name": "Python 3"
    },
    "accelerator": "GPU"
  },
  "cells": [
    {
      "cell_type": "markdown",
      "metadata": {
        "id": "view-in-github",
        "colab_type": "text"
      },
      "source": [
        "<a href=\"https://colab.research.google.com/github/harshitgupta1998/Covid-19_dataset/blob/master/LSTM_and_CNN.ipynb\" target=\"_parent\"><img src=\"https://colab.research.google.com/assets/colab-badge.svg\" alt=\"Open In Colab\"/></a>"
      ]
    },
    {
      "cell_type": "code",
      "metadata": {
        "id": "WQWWb4PC7_wi",
        "colab_type": "code",
        "colab": {
          "base_uri": "https://localhost:8080/",
          "height": 34
        },
        "outputId": "4e114b9e-052d-4001-9316-ba4bdad9db0c"
      },
      "source": [
        "from tensorflow.python.client import device_lib\n",
        "device_lib.list_local_devices()\n",
        "\n",
        "from google.colab import drive\n",
        "drive.mount('/content/drive/')\n"
      ],
      "execution_count": null,
      "outputs": [
        {
          "output_type": "stream",
          "text": [
            "Drive already mounted at /content/drive/; to attempt to forcibly remount, call drive.mount(\"/content/drive/\", force_remount=True).\n"
          ],
          "name": "stdout"
        }
      ]
    },
    {
      "cell_type": "code",
      "metadata": {
        "id": "JWVLpJKC_LOd",
        "colab_type": "code",
        "colab": {}
      },
      "source": [
        "import os\n",
        "import glob\n",
        "import numpy as np\n",
        "from tensorflow.keras import layers\n",
        "from tensorflow import keras \n",
        "import tensorflow as tf\n",
        "test_accuracies = []\n",
        "pred_labels = []\n"
      ],
      "execution_count": null,
      "outputs": []
    },
    {
      "cell_type": "code",
      "metadata": {
        "id": "X1dJbtkA_L2P",
        "colab_type": "code",
        "colab": {}
      },
      "source": [
        "class cnn:\n",
        "    def __init__(self):\n",
        "        self.batch_size = 128\n",
        "        self.dir_data='/content/drive/My Drive/BE_project_dataset_and_code/data/' #change to run locally\n",
        "        self.num_of_classes,self.dict =create_dic(self.dir_data)\n",
        "        self.image_size = 28\n",
        "        self.validate_data = 10000"
      ],
      "execution_count": null,
      "outputs": []
    },
    {
      "cell_type": "code",
      "metadata": {
        "id": "_lBnSq2O_ZCa",
        "colab_type": "code",
        "colab": {
          "base_uri": "https://localhost:8080/",
          "height": 54
        },
        "outputId": "0ead06be-668b-4d0c-f66a-965ef80c2919"
      },
      "source": [
        "with open('mini_classes.txt','w') as f: #create a file for mini class\n",
        "    for file in sorted(os.listdir('/content/drive/My Drive/BE_project_dataset_and_code/data/')): #see how to take data from google drive into colab \n",
        "        if file.endswith(\".npy\"): #copy from drive not local drive change accordingly\n",
        "            print(file.split(\".\")[0], file = f)\n",
        "f = open(\"mini_classes.txt\",\"r\")\n",
        "# And for reading use\n",
        "classes = f.readlines()\n",
        "f.close()\n",
        "classes = [c.replace('\\n','').replace(' ','_') for c in classes]\n",
        "print(classes)\n"
      ],
      "execution_count": null,
      "outputs": [
        {
          "output_type": "stream",
          "text": [
            "['ambulance', 'apple', 'axe', 'basketball', 'bicycle', 'boomerang', 'butterfly', 'car', 'carrot', 'cat', 'clock', 'cookie', 'cup', 'donut', 'envelope', 'flower', 'hammer', 'key', 'knife', 'lightning', 'pencil', 'pizza', 'rainbow', 'snake', 'spider', 'star', 'tractor', 'tree', 'whale', 'windmill']\n"
          ],
          "name": "stdout"
        }
      ]
    },
    {
      "cell_type": "code",
      "metadata": {
        "id": "RGe4LFoJAEEo",
        "colab_type": "code",
        "colab": {}
      },
      "source": [
        "dir_data='/content/drive/My Drive/BE_project_dataset_and_code/data/'\n",
        "def create_dic(dir_data):\n",
        "    dict={}\n",
        "    i=0\n",
        "    for file in sorted(os.listdir('/content/drive/My Drive/BE_project_dataset_and_code/data/')):\n",
        "        if file.endswith(\".npy\"):\n",
        "            str=file.split(\".\")\n",
        "            dict[i]=str[0]\n",
        "            i=i+1\n",
        "    return i,dict"
      ],
      "execution_count": null,
      "outputs": []
    },
    {
      "cell_type": "code",
      "metadata": {
        "id": "iFeTkT4iATSQ",
        "colab_type": "code",
        "colab": {}
      },
      "source": [
        "def load_data(cnn):\n",
        "    dir_data='/content/drive/My Drive/BE_project_dataset_and_code/data/' #change to run locally all dir_data\n",
        "    num_of_classess,dict=create_dic(dir_data)\n",
        "    data_l=np.zeros((1))\n",
        "    data_d=np.zeros((1,cnn.image_size*cnn.image_size))\n",
        "    index=0\n",
        "    class_names = []\n",
        "    for file in sorted(os.listdir(dir_data)):\n",
        "        if file.endswith(\".npy\"):\n",
        "            print(data_l.shape,data_d.shape,\"cur label num!\",index+1,file)\n",
        "            curr_data=np.load(dir_data+file)\n",
        "            data_size=curr_data.shape\n",
        "            #take only 30 percent of the data\n",
        "            part_data=int(0.3*(data_size[0]))\n",
        "            curr_data=curr_data[1:part_data,:]\n",
        "            \n",
        "\n",
        "            #change to white background\n",
        "            curr_data=255-curr_data;\n",
        "            data_d=np.concatenate((data_d,curr_data), axis=0)\n",
        "            data_l=np.concatenate((data_l,np.ones(curr_data.shape[0])*index))\n",
        "            index=index+1\n",
        "            class_names.append(file.split('.')[0])\n",
        "\n",
        "    data_l=np.expand_dims(data_l,1)\n",
        "    data_all=np.concatenate((data_d,data_l),axis=1)\n",
        "    data_all=np.random.permutation(data_all)\n",
        "\n",
        "    x_data=data_all[:,0:-1]\n",
        "    y_data=data_all[:,-1]\n",
        "    num_img=x_data.shape[0]\n",
        "    data_img=np.reshape(x_data,[num_img,cnn.image_size,cnn.image_size])\n",
        "\n",
        "\n",
        "    data_train=data_img[cnn.validate_data:,:,:]\n",
        "    data_train=np.expand_dims(data_train,3)\n",
        "\n",
        "    labels_train=y_data[cnn.validate_data:]\n",
        "    data_test=data_img[:cnn.validate_data:,:,:]\n",
        "    data_test=np.expand_dims(data_test,3)\n",
        "\n",
        "    labels_test=y_data[:cnn.validate_data]\n",
        "\n",
        "\n",
        "    return data_train,labels_train,data_test,labels_test,class_names"
      ],
      "execution_count": null,
      "outputs": []
    },
    {
      "cell_type": "code",
      "metadata": {
        "id": "rc9zRglTAZIJ",
        "colab_type": "code",
        "colab": {
          "base_uri": "https://localhost:8080/",
          "height": 521
        },
        "outputId": "412af76f-6d5a-4f55-bb63-0492805fa915"
      },
      "source": [
        "quick_draw_cnn=cnn()\n",
        "x_train, y_train, x_test, y_test, class_names = load_data(quick_draw_cnn)\n",
        "num_classes = len(class_names)"
      ],
      "execution_count": null,
      "outputs": [
        {
          "output_type": "stream",
          "text": [
            "(1,) (1, 784) cur label num! 1 ambulance.npy\n",
            "(44401,) (44401, 784) cur label num! 2 apple.npy\n",
            "(87816,) (87816, 784) cur label num! 3 axe.npy\n",
            "(125051,) (125051, 784) cur label num! 4 basketball.npy\n",
            "(165187,) (165187, 784) cur label num! 5 bicycle.npy\n",
            "(203144,) (203144, 784) cur label num! 6 boomerang.npy\n",
            "(245947,) (245947, 784) cur label num! 7 butterfly.npy\n",
            "(281345,) (281345, 784) cur label num! 8 car.npy\n",
            "(336173,) (336173, 784) cur label num! 9 carrot.npy\n",
            "(375909,) (375909, 784) cur label num! 10 cat.npy\n",
            "(412868,) (412868, 784) cur label num! 11 clock.npy\n",
            "(449027,) (449027, 784) cur label num! 12 cookie.npy\n",
            "(488431,) (488431, 784) cur label num! 13 cup.npy\n",
            "(527646,) (527646, 784) cur label num! 14 donut.npy\n",
            "(569870,) (569870, 784) cur label num! 15 envelope.npy\n",
            "(610327,) (610327, 784) cur label num! 16 flower.npy\n",
            "(653771,) (653771, 784) cur label num! 17 hammer.npy\n",
            "(689473,) (689473, 784) cur label num! 18 key.npy\n",
            "(737761,) (737761, 784) cur label num! 19 knife.npy\n",
            "(789556,) (789556, 784) cur label num! 20 lightning.npy\n",
            "(835023,) (835023, 784) cur label num! 21 pencil.npy\n",
            "(871622,) (871622, 784) cur label num! 22 pizza.npy\n",
            "(910732,) (910732, 784) cur label num! 23 rainbow.npy\n",
            "(948784,) (948784, 784) cur label num! 24 snake.npy\n",
            "(985464,) (985464, 784) cur label num! 25 spider.npy\n",
            "(1048297,) (1048297, 784) cur label num! 26 star.npy\n",
            "(1089581,) (1089581, 784) cur label num! 27 tractor.npy\n",
            "(1124583,) (1124583, 784) cur label num! 28 tree.npy\n",
            "(1167998,) (1167998, 784) cur label num! 29 whale.npy\n",
            "(1202947,) (1202947, 784) cur label num! 30 windmill.npy\n"
          ],
          "name": "stdout"
        }
      ]
    },
    {
      "cell_type": "code",
      "metadata": {
        "id": "3aK75a7XAv9D",
        "colab_type": "code",
        "colab": {}
      },
      "source": [
        "x_train = x_train.reshape(x_train.shape[0], quick_draw_cnn.image_size, quick_draw_cnn.image_size, 1).astype('float32')\n",
        "x_test = x_test.reshape(x_test.shape[0], quick_draw_cnn.image_size, quick_draw_cnn.image_size, 1).astype('float32')\n",
        "\n",
        "x_train /= 255.0\n",
        "x_test /= 255.0\n",
        "\n",
        "# Convert class vectors to class matrices\n",
        "y_train = keras.utils.to_categorical(y_train, num_classes)\n",
        "y_test = keras.utils.to_categorical(y_test, num_classes)\n"
      ],
      "execution_count": null,
      "outputs": []
    },
    {
      "cell_type": "code",
      "metadata": {
        "id": "-2mYt6NKAwah",
        "colab_type": "code",
        "colab": {
          "base_uri": "https://localhost:8080/",
          "height": 538
        },
        "outputId": "43491e6f-b967-4ffb-89bc-4ff29688d41a"
      },
      "source": [
        "from tensorflow.python.keras.layers import Dense,LSTM\n",
        "from tensorflow.python.keras import Sequential\n",
        "\n",
        "model_CNN1 = Sequential()\n",
        "\n",
        "model_CNN1.add(layers.Convolution2D(filters=32, kernel_size=[5,5], padding='same',input_shape=x_train.shape[1:], activation='relu'))\n",
        "model_CNN1.add(layers.MaxPooling2D(pool_size=(2, 2), strides=2))\n",
        "\n",
        "model_CNN1.add(layers.Convolution2D(filters=32, kernel_size=[5,5],padding='same', activation= 'relu'))\n",
        "model_CNN1.add(layers.MaxPooling2D(pool_size=(2, 2), strides=2))\n",
        "\n",
        "model_CNN1.add(layers.Convolution2D(filters=32, kernel_size=[5,5],padding='same', activation= 'relu'))\n",
        "model_CNN1.add(layers.MaxPooling2D(pool_size=(2, 2), strides=2))\n",
        "\n",
        "model_CNN1.add(layers.Convolution2D(filters=32, kernel_size=[5,5],padding='same', activation= 'relu')) #try to use selu\n",
        "model_CNN1.add(layers.MaxPooling2D(pool_size=(2, 2), strides=2))\n",
        "\n",
        "model_CNN1.add(layers.Flatten())\n",
        "\n",
        "model_CNN1.add(layers.Dense(units=500, activation='relu'))\n",
        "model_CNN1.add(layers.Dense(units=num_classes, activation='softmax')) \n",
        "# Train model\n",
        "adam = tf.optimizers.Adam()\n",
        "model_CNN1.compile(loss='categorical_crossentropy',\n",
        "              optimizer=adam,\n",
        "              metrics=['top_k_categorical_accuracy'])\n",
        "print(model_CNN1.summary())"
      ],
      "execution_count": null,
      "outputs": [
        {
          "output_type": "stream",
          "text": [
            "Model: \"sequential\"\n",
            "_________________________________________________________________\n",
            "Layer (type)                 Output Shape              Param #   \n",
            "=================================================================\n",
            "conv2d (Conv2D)              (None, 28, 28, 32)        832       \n",
            "_________________________________________________________________\n",
            "max_pooling2d (MaxPooling2D) (None, 14, 14, 32)        0         \n",
            "_________________________________________________________________\n",
            "conv2d_1 (Conv2D)            (None, 14, 14, 32)        25632     \n",
            "_________________________________________________________________\n",
            "max_pooling2d_1 (MaxPooling2 (None, 7, 7, 32)          0         \n",
            "_________________________________________________________________\n",
            "conv2d_2 (Conv2D)            (None, 7, 7, 32)          25632     \n",
            "_________________________________________________________________\n",
            "max_pooling2d_2 (MaxPooling2 (None, 3, 3, 32)          0         \n",
            "_________________________________________________________________\n",
            "conv2d_3 (Conv2D)            (None, 3, 3, 32)          25632     \n",
            "_________________________________________________________________\n",
            "max_pooling2d_3 (MaxPooling2 (None, 1, 1, 32)          0         \n",
            "_________________________________________________________________\n",
            "flatten (Flatten)            (None, 32)                0         \n",
            "_________________________________________________________________\n",
            "dense (Dense)                (None, 500)               16500     \n",
            "_________________________________________________________________\n",
            "dense_1 (Dense)              (None, 30)                15030     \n",
            "=================================================================\n",
            "Total params: 109,258\n",
            "Trainable params: 109,258\n",
            "Non-trainable params: 0\n",
            "_________________________________________________________________\n",
            "None\n"
          ],
          "name": "stdout"
        }
      ]
    },
    {
      "cell_type": "code",
      "metadata": {
        "id": "Q-62qVo2BXrS",
        "colab_type": "code",
        "colab": {
          "base_uri": "https://localhost:8080/",
          "height": 406
        },
        "outputId": "f7d62aad-a768-4967-dc3c-6316b5d3b21d"
      },
      "source": [
        "model_CNN1.fit(x = x_train, y = y_train, validation_data=(x_test, y_test), batch_size=quick_draw_cnn.batch_size, epochs=10)\n",
        "acc = model_CNN1.evaluate(x_test, y_test,batch_size=quick_draw_cnn.batch_size)\n",
        "print('Test accuracy:', acc[1])\n",
        "test_accuracies.append(acc[1])"
      ],
      "execution_count": null,
      "outputs": [
        {
          "output_type": "stream",
          "text": [
            "Epoch 1/10\n",
            "9603/9603 [==============================] - 45s 5ms/step - loss: 0.2975 - top_k_categorical_accuracy: 0.9814 - val_loss: 0.3323 - val_top_k_categorical_accuracy: 0.9786\n",
            "Epoch 2/10\n",
            "9603/9603 [==============================] - 45s 5ms/step - loss: 0.2953 - top_k_categorical_accuracy: 0.9814 - val_loss: 0.3202 - val_top_k_categorical_accuracy: 0.9789\n",
            "Epoch 3/10\n",
            "9603/9603 [==============================] - 45s 5ms/step - loss: 0.2937 - top_k_categorical_accuracy: 0.9815 - val_loss: 0.3187 - val_top_k_categorical_accuracy: 0.9791\n",
            "Epoch 4/10\n",
            "9603/9603 [==============================] - 45s 5ms/step - loss: 0.2918 - top_k_categorical_accuracy: 0.9816 - val_loss: 0.3229 - val_top_k_categorical_accuracy: 0.9783\n",
            "Epoch 5/10\n",
            "9603/9603 [==============================] - 45s 5ms/step - loss: 0.2900 - top_k_categorical_accuracy: 0.9817 - val_loss: 0.3262 - val_top_k_categorical_accuracy: 0.9779\n",
            "Epoch 6/10\n",
            "9603/9603 [==============================] - 44s 5ms/step - loss: 0.2887 - top_k_categorical_accuracy: 0.9817 - val_loss: 0.3184 - val_top_k_categorical_accuracy: 0.9788\n",
            "Epoch 7/10\n",
            "9603/9603 [==============================] - 44s 5ms/step - loss: 0.2877 - top_k_categorical_accuracy: 0.9817 - val_loss: 0.3209 - val_top_k_categorical_accuracy: 0.9788\n",
            "Epoch 8/10\n",
            "9603/9603 [==============================] - 45s 5ms/step - loss: 0.2867 - top_k_categorical_accuracy: 0.9818 - val_loss: 0.3222 - val_top_k_categorical_accuracy: 0.9792\n",
            "Epoch 9/10\n",
            "9603/9603 [==============================] - 45s 5ms/step - loss: 0.2847 - top_k_categorical_accuracy: 0.9818 - val_loss: 0.3097 - val_top_k_categorical_accuracy: 0.9799\n",
            "Epoch 10/10\n",
            "9603/9603 [==============================] - 44s 5ms/step - loss: 0.2844 - top_k_categorical_accuracy: 0.9818 - val_loss: 0.3189 - val_top_k_categorical_accuracy: 0.9785\n",
            "79/79 [==============================] - 0s 3ms/step - loss: 0.3189 - top_k_categorical_accuracy: 0.9785\n",
            "Test accuracy: 0.9785000085830688\n"
          ],
          "name": "stdout"
        }
      ]
    },
    {
      "cell_type": "markdown",
      "metadata": {
        "id": "Pjo2iq2kwhQ8",
        "colab_type": "text"
      },
      "source": [
        ""
      ]
    },
    {
      "cell_type": "code",
      "metadata": {
        "colab_type": "code",
        "id": "K6LpPhNg6p0z",
        "colab": {
          "base_uri": "https://localhost:8080/",
          "height": 403
        },
        "outputId": "6ba45cfe-93c2-47dc-b010-434b0a8f4f63"
      },
      "source": [
        "from tensorflow.python.keras.layers import Dense,LSTM\n",
        "from tensorflow.python.keras import Sequential\n",
        "\n",
        "model_CNN2 = Sequential()\n",
        "\n",
        "model_CNN2 .add(layers.Convolution2D(filters=32, kernel_size=[5,5], padding='same',input_shape=x_train.shape[1:], activation='relu'))\n",
        "model_CNN2 .add(layers.MaxPooling2D(pool_size=(2, 2), strides=2))\n",
        "\n",
        "model_CNN2 .add(layers.Convolution2D(filters=32, kernel_size=[5,5],padding='same', activation= 'relu'))\n",
        "model_CNN2 .add(layers.MaxPooling2D(pool_size=(2, 2), strides=2))\n",
        "\n",
        "#model_CNN2 .add(layers.Convolution2D(filters=32, kernel_size=[5,5],padding='same', activation= 'relu'))\n",
        "#model_CNN2 .add(layers.MaxPooling2D(pool_size=(2, 2), strides=2))\n",
        "\n",
        "model_CNN2 .add(layers.Flatten())\n",
        "\n",
        "model_CNN2 .add(layers.Dense(units=500, activation='relu'))\n",
        "\n",
        "model_CNN2 .add(layers.Dense(units=num_classes, activation='softmax')) \n",
        "# Train model\n",
        "adam = tf.optimizers.Adam()\n",
        "\n",
        "model_CNN2 .compile(loss='categorical_crossentropy',\n",
        "              optimizer=adam,\n",
        "              metrics=['top_k_categorical_accuracy'])\n",
        "print(model_CNN2 .summary())"
      ],
      "execution_count": null,
      "outputs": [
        {
          "output_type": "stream",
          "text": [
            "Model: \"sequential_1\"\n",
            "_________________________________________________________________\n",
            "Layer (type)                 Output Shape              Param #   \n",
            "=================================================================\n",
            "conv2d_4 (Conv2D)            (None, 28, 28, 32)        832       \n",
            "_________________________________________________________________\n",
            "max_pooling2d_4 (MaxPooling2 (None, 14, 14, 32)        0         \n",
            "_________________________________________________________________\n",
            "conv2d_5 (Conv2D)            (None, 14, 14, 32)        25632     \n",
            "_________________________________________________________________\n",
            "max_pooling2d_5 (MaxPooling2 (None, 7, 7, 32)          0         \n",
            "_________________________________________________________________\n",
            "flatten_1 (Flatten)          (None, 1568)              0         \n",
            "_________________________________________________________________\n",
            "dense_2 (Dense)              (None, 500)               784500    \n",
            "_________________________________________________________________\n",
            "dense_3 (Dense)              (None, 30)                15030     \n",
            "=================================================================\n",
            "Total params: 825,994\n",
            "Trainable params: 825,994\n",
            "Non-trainable params: 0\n",
            "_________________________________________________________________\n",
            "None\n"
          ],
          "name": "stdout"
        }
      ]
    },
    {
      "cell_type": "code",
      "metadata": {
        "colab_type": "code",
        "id": "CgCjk-uV7N_7",
        "colab": {
          "base_uri": "https://localhost:8080/",
          "height": 406
        },
        "outputId": "d75f03b6-b14f-4d83-dc88-279da47e00aa"
      },
      "source": [
        "model_CNN2.fit(x = x_train, y = y_train, validation_data=(x_test, y_test), batch_size=quick_draw_cnn.batch_size, epochs=10)\n",
        "acc = model_CNN2.evaluate(x_test, y_test,batch_size=quick_draw_cnn.batch_size)\n",
        "print('Test accuracy:', acc[1])\n",
        "test_accuracies.append(acc[1])"
      ],
      "execution_count": null,
      "outputs": [
        {
          "output_type": "stream",
          "text": [
            "Epoch 1/10\n",
            "9603/9603 [==============================] - 39s 4ms/step - loss: 0.4571 - top_k_categorical_accuracy: 0.9688 - val_loss: 0.3361 - val_top_k_categorical_accuracy: 0.9766\n",
            "Epoch 2/10\n",
            "9603/9603 [==============================] - 39s 4ms/step - loss: 0.3020 - top_k_categorical_accuracy: 0.9807 - val_loss: 0.3065 - val_top_k_categorical_accuracy: 0.9791\n",
            "Epoch 3/10\n",
            "9603/9603 [==============================] - 38s 4ms/step - loss: 0.2649 - top_k_categorical_accuracy: 0.9835 - val_loss: 0.3003 - val_top_k_categorical_accuracy: 0.9789\n",
            "Epoch 4/10\n",
            "9603/9603 [==============================] - 38s 4ms/step - loss: 0.2409 - top_k_categorical_accuracy: 0.9853 - val_loss: 0.2993 - val_top_k_categorical_accuracy: 0.9807\n",
            "Epoch 5/10\n",
            "9603/9603 [==============================] - 39s 4ms/step - loss: 0.2212 - top_k_categorical_accuracy: 0.9871 - val_loss: 0.3050 - val_top_k_categorical_accuracy: 0.9783\n",
            "Epoch 6/10\n",
            "9603/9603 [==============================] - 40s 4ms/step - loss: 0.2043 - top_k_categorical_accuracy: 0.9885 - val_loss: 0.3314 - val_top_k_categorical_accuracy: 0.9775\n",
            "Epoch 7/10\n",
            "9603/9603 [==============================] - 39s 4ms/step - loss: 0.1898 - top_k_categorical_accuracy: 0.9898 - val_loss: 0.3343 - val_top_k_categorical_accuracy: 0.9786\n",
            "Epoch 8/10\n",
            "9603/9603 [==============================] - 39s 4ms/step - loss: 0.1764 - top_k_categorical_accuracy: 0.9909 - val_loss: 0.3656 - val_top_k_categorical_accuracy: 0.9772\n",
            "Epoch 9/10\n",
            "9603/9603 [==============================] - 38s 4ms/step - loss: 0.1643 - top_k_categorical_accuracy: 0.9921 - val_loss: 0.3739 - val_top_k_categorical_accuracy: 0.9769\n",
            "Epoch 10/10\n",
            "9603/9603 [==============================] - 38s 4ms/step - loss: 0.1539 - top_k_categorical_accuracy: 0.9930 - val_loss: 0.4111 - val_top_k_categorical_accuracy: 0.9759\n",
            "79/79 [==============================] - 0s 3ms/step - loss: 0.4111 - top_k_categorical_accuracy: 0.9759\n",
            "Test accuracy: 0.9758999943733215\n"
          ],
          "name": "stdout"
        }
      ]
    },
    {
      "cell_type": "code",
      "metadata": {
        "colab_type": "code",
        "id": "gUTZmj6PLNZW",
        "colab": {
          "base_uri": "https://localhost:8080/",
          "height": 470
        },
        "outputId": "dbedb43e-38ab-40bf-a162-b73150dd3115"
      },
      "source": [
        "from tensorflow.python.keras.layers import Dense,LSTM\n",
        "from tensorflow.python.keras import Sequential\n",
        "\n",
        "model_CNN3 = Sequential()\n",
        "\n",
        "model_CNN3 .add(layers.Convolution2D(filters=32, kernel_size=[5,5], padding='same',input_shape=x_train.shape[1:], activation='selu'))\n",
        "model_CNN3 .add(layers.MaxPooling2D(pool_size=(2, 2), strides=2))\n",
        "\n",
        "model_CNN3 .add(layers.Convolution2D(filters=32, kernel_size=[5,5],padding='same', activation= 'selu'))\n",
        "model_CNN3 .add(layers.MaxPooling2D(pool_size=(2, 2), strides=2))\n",
        "\n",
        "model_CNN3 .add(layers.Convolution2D(filters=32, kernel_size=[5,5],padding='same', activation= 'selu'))\n",
        "model_CNN3 .add(layers.MaxPooling2D(pool_size=(2, 2), strides=2))\n",
        "\n",
        "model_CNN3 .add(layers.Flatten())\n",
        "\n",
        "model_CNN3 .add(layers.Dense(units=500, activation='selu'))\n",
        "\n",
        "model_CNN3 .add(layers.Dense(units=num_classes, activation='softmax')) \n",
        "# Train model\n",
        "adam = tf.optimizers.Adam()\n",
        "\n",
        "model_CNN3 .compile(loss='categorical_crossentropy',\n",
        "              optimizer=adam,\n",
        "              metrics=['top_k_categorical_accuracy'])\n",
        "print(model_CNN3 .summary())"
      ],
      "execution_count": null,
      "outputs": [
        {
          "output_type": "stream",
          "text": [
            "Model: \"sequential_2\"\n",
            "_________________________________________________________________\n",
            "Layer (type)                 Output Shape              Param #   \n",
            "=================================================================\n",
            "conv2d_6 (Conv2D)            (None, 28, 28, 32)        832       \n",
            "_________________________________________________________________\n",
            "max_pooling2d_6 (MaxPooling2 (None, 14, 14, 32)        0         \n",
            "_________________________________________________________________\n",
            "conv2d_7 (Conv2D)            (None, 14, 14, 32)        25632     \n",
            "_________________________________________________________________\n",
            "max_pooling2d_7 (MaxPooling2 (None, 7, 7, 32)          0         \n",
            "_________________________________________________________________\n",
            "conv2d_8 (Conv2D)            (None, 7, 7, 32)          25632     \n",
            "_________________________________________________________________\n",
            "max_pooling2d_8 (MaxPooling2 (None, 3, 3, 32)          0         \n",
            "_________________________________________________________________\n",
            "flatten_2 (Flatten)          (None, 288)               0         \n",
            "_________________________________________________________________\n",
            "dense_4 (Dense)              (None, 500)               144500    \n",
            "_________________________________________________________________\n",
            "dense_5 (Dense)              (None, 30)                15030     \n",
            "=================================================================\n",
            "Total params: 211,626\n",
            "Trainable params: 211,626\n",
            "Non-trainable params: 0\n",
            "_________________________________________________________________\n",
            "None\n"
          ],
          "name": "stdout"
        }
      ]
    },
    {
      "cell_type": "code",
      "metadata": {
        "id": "3HYWLomxLnUX",
        "colab_type": "code",
        "colab": {
          "base_uri": "https://localhost:8080/",
          "height": 406
        },
        "outputId": "d2da74de-20a6-4241-c5f8-869697a17270"
      },
      "source": [
        "model_CNN3.fit(x = x_train, y = y_train, validation_data=(x_test, y_test), batch_size=quick_draw_cnn.batch_size, epochs=10)\n",
        "acc = model_CNN3.evaluate(x_test, y_test,batch_size=quick_draw_cnn.batch_size)\n",
        "print('Test accuracy:', acc[1])\n",
        "test_accuracies.append(acc[1])"
      ],
      "execution_count": null,
      "outputs": [
        {
          "output_type": "stream",
          "text": [
            "Epoch 1/10\n",
            "9603/9603 [==============================] - 41s 4ms/step - loss: 0.5636 - top_k_categorical_accuracy: 0.9629 - val_loss: 0.4159 - val_top_k_categorical_accuracy: 0.9731\n",
            "Epoch 2/10\n",
            "9603/9603 [==============================] - 41s 4ms/step - loss: 0.3956 - top_k_categorical_accuracy: 0.9754 - val_loss: 0.3808 - val_top_k_categorical_accuracy: 0.9750\n",
            "Epoch 3/10\n",
            "9603/9603 [==============================] - 41s 4ms/step - loss: 0.3623 - top_k_categorical_accuracy: 0.9776 - val_loss: 0.3587 - val_top_k_categorical_accuracy: 0.9758\n",
            "Epoch 4/10\n",
            "9603/9603 [==============================] - 42s 4ms/step - loss: 0.3468 - top_k_categorical_accuracy: 0.9787 - val_loss: 0.3660 - val_top_k_categorical_accuracy: 0.9760\n",
            "Epoch 5/10\n",
            "9603/9603 [==============================] - 41s 4ms/step - loss: 0.3353 - top_k_categorical_accuracy: 0.9793 - val_loss: 0.3731 - val_top_k_categorical_accuracy: 0.9766\n",
            "Epoch 6/10\n",
            "9603/9603 [==============================] - 41s 4ms/step - loss: 0.3272 - top_k_categorical_accuracy: 0.9799 - val_loss: 0.3608 - val_top_k_categorical_accuracy: 0.9753\n",
            "Epoch 7/10\n",
            "9603/9603 [==============================] - 41s 4ms/step - loss: 0.3211 - top_k_categorical_accuracy: 0.9802 - val_loss: 0.3552 - val_top_k_categorical_accuracy: 0.9757\n",
            "Epoch 8/10\n",
            "9603/9603 [==============================] - 41s 4ms/step - loss: 0.3157 - top_k_categorical_accuracy: 0.9806 - val_loss: 0.3896 - val_top_k_categorical_accuracy: 0.9764\n",
            "Epoch 9/10\n",
            "9603/9603 [==============================] - 41s 4ms/step - loss: 0.3112 - top_k_categorical_accuracy: 0.9808 - val_loss: 0.3844 - val_top_k_categorical_accuracy: 0.9735\n",
            "Epoch 10/10\n",
            "9603/9603 [==============================] - 41s 4ms/step - loss: 0.3072 - top_k_categorical_accuracy: 0.9811 - val_loss: 0.3649 - val_top_k_categorical_accuracy: 0.9763\n",
            "79/79 [==============================] - 0s 3ms/step - loss: 0.3649 - top_k_categorical_accuracy: 0.9763\n",
            "Test accuracy: 0.9763000011444092\n"
          ],
          "name": "stdout"
        }
      ]
    },
    {
      "cell_type": "code",
      "metadata": {
        "id": "uI-UzVPDihBp",
        "colab_type": "code",
        "colab": {
          "base_uri": "https://localhost:8080/",
          "height": 315
        },
        "outputId": "d02a879d-94ba-4847-d435-2a3aa4366990"
      },
      "source": [
        "import matplotlib.pyplot as plt\n",
        "from random import randint\n",
        "%matplotlib inline  \n",
        "#idx = randint(0, len(x_test))\n",
        "#idx=57\n",
        "idx=50\n",
        "\n",
        "\n",
        "pred_labels=[]\n",
        "img = x_test[idx]\n",
        "plt.imshow(img.squeeze()) \n",
        "pred_CNN1 = model_CNN1.predict(np.expand_dims(img, axis=0))[0]\n",
        "pred_labels.append(pred_CNN1)\n",
        "ind_CNN1 = (-pred_CNN1).argsort()[:5]\n",
        "latex_CNN1= [class_names[x] for x in ind_CNN1]\n",
        "print(latex_CNN1)\n",
        "\n",
        "pred_CNN2 = model_CNN2.predict(np.expand_dims(img, axis=0))[0]\n",
        "pred_labels.append(pred_CNN2)\n",
        "ind_CNN2 = (-pred_CNN2).argsort()[:5]\n",
        "latex_CNN2 = [class_names[x] for x in ind_CNN2]\n",
        "print(latex_CNN2)\n",
        "\n",
        "pred_CNN3 = model_CNN3.predict(np.expand_dims(img, axis=0))[0]\n",
        "pred_labels.append(pred_CNN3)\n",
        "ind_CNN3 = (-pred_CNN3).argsort()[:5]\n",
        "latex_CNN3 = [class_names[x] for x in ind_CNN3]\n",
        "print(latex_CNN3)\n",
        "\n"
      ],
      "execution_count": null,
      "outputs": [
        {
          "output_type": "stream",
          "text": [
            "['cup', 'key', 'apple', 'hammer', 'tree']\n",
            "['cup', 'butterfly', 'apple', 'spider', 'hammer']\n",
            "['cup', 'knife', 'ambulance', 'butterfly', 'tractor']\n"
          ],
          "name": "stdout"
        },
        {
          "output_type": "display_data",
          "data": {
            "image/png": "[encoded data removed]",
            "text/plain": [
              "<Figure size 432x288 with 1 Axes>"
            ]
          },
          "metadata": {
            "tags": [],
            "needs_background": "light"
          }
        }
      ]
    },
    {
      "cell_type": "code",
      "metadata": {
        "id": "brpENG7SjteX",
        "colab_type": "code",
        "colab": {
          "base_uri": "https://localhost:8080/",
          "height": 403
        },
        "outputId": "a7c2cf67-6052-4809-8905-f46e0a1ba492"
      },
      "source": [
        "print(pred_labels)\n",
        "print(test_accuracies)"
      ],
      "execution_count": null,
      "outputs": [
        {
          "output_type": "stream",
          "text": [
            "[array([2.3412558e-06, 1.8482508e-05, 3.2339044e-06, 1.1004463e-06,\n",
            "       6.3908800e-10, 1.0995505e-08, 3.6997317e-06, 1.7455359e-06,\n",
            "       1.2508853e-08, 1.5808693e-06, 2.2292267e-07, 3.4947707e-08,\n",
            "       9.9990046e-01, 5.0278356e-08, 5.1618758e-07, 6.5264207e-06,\n",
            "       1.3222478e-05, 2.1964519e-05, 8.5368365e-06, 1.4984379e-06,\n",
            "       3.7535560e-08, 2.6124285e-09, 1.0810064e-14, 1.3295258e-07,\n",
            "       3.8896001e-06, 4.9633347e-10, 1.8850592e-06, 8.7889193e-06,\n",
            "       2.6234637e-09, 3.0385920e-08], dtype=float32), array([4.1128642e-15, 3.2046452e-13, 1.4999814e-15, 7.9233571e-18,\n",
            "       2.0282341e-21, 3.1384397e-16, 4.7863402e-10, 4.0119284e-20,\n",
            "       2.9682512e-18, 6.5807393e-16, 1.6754811e-18, 7.2925128e-20,\n",
            "       1.0000000e+00, 7.3203400e-17, 3.0551009e-17, 9.1978986e-15,\n",
            "       4.7758337e-14, 4.2811091e-15, 4.1394786e-16, 8.1079237e-23,\n",
            "       1.4711102e-14, 2.7440962e-17, 2.8168560e-23, 3.9324570e-19,\n",
            "       1.8743476e-13, 3.1189857e-16, 5.3246122e-16, 1.1883438e-17,\n",
            "       5.2844225e-17, 8.1960507e-16], dtype=float32), array([1.6597166e-08, 1.8457702e-10, 5.2775492e-11, 5.4964699e-10,\n",
            "       6.1918075e-11, 5.9172268e-12, 5.3788947e-09, 3.0698888e-11,\n",
            "       6.4657533e-12, 3.0301619e-11, 2.2623174e-10, 6.1970465e-13,\n",
            "       1.0000000e+00, 9.0997665e-10, 6.4724905e-12, 4.2414770e-12,\n",
            "       2.9336764e-10, 9.1572755e-10, 5.4459154e-08, 1.8982360e-10,\n",
            "       2.8846650e-10, 2.7862565e-10, 7.6391486e-13, 4.4605233e-11,\n",
            "       6.4860506e-11, 1.9684983e-11, 2.4898799e-09, 2.7484537e-10,\n",
            "       1.6761743e-11, 3.2003910e-11], dtype=float32)]\n",
            "[0.9785000085830688, 0.9758999943733215, 0.9763000011444092]\n"
          ],
          "name": "stdout"
        }
      ]
    },
    {
      "cell_type": "code",
      "metadata": {
        "id": "q1BdX-YHBkeh",
        "colab_type": "code",
        "colab": {
          "base_uri": "https://localhost:8080/",
          "height": 67
        },
        "outputId": "5cce58f6-428a-424c-ba40-2c69b31ff884"
      },
      "source": [
        "scores = model_CNN1.evaluate(x_test, y_test, verbose=0)\n",
        "print(\"Accuracy: %.2f%%\" % (scores[1]*100))\n",
        "scores = model_CNN2.evaluate(x_test, y_test, verbose=0)\n",
        "print(\"Accuracy: %.2f%%\" % (scores[1]*100))\n",
        "\n",
        "scores = model_CNN3.evaluate(x_test, y_test, verbose=0)\n",
        "print(\"Accuracy: %.2f%%\" % (scores[1]*100))"
      ],
      "execution_count": null,
      "outputs": [
        {
          "output_type": "stream",
          "text": [
            "Accuracy: 97.85%\n",
            "Accuracy: 97.59%\n",
            "Accuracy: 97.64%\n"
          ],
          "name": "stdout"
        }
      ]
    },
    {
      "cell_type": "code",
      "metadata": {
        "id": "a-oMvylaBk1m",
        "colab_type": "code",
        "colab": {
          "base_uri": "https://localhost:8080/",
          "height": 34
        },
        "outputId": "d9cbd73c-e9c6-4c85-ac47-84f8723b71f0"
      },
      "source": [
        "import numpy\n",
        "from keras.datasets import imdb\n",
        "from keras.models import Sequential\n",
        "from keras.layers import Dense\n",
        "from keras.layers import LSTM\n",
        "from keras.layers.embeddings import Embedding\n",
        "from keras.preprocessing import sequence\n",
        "\n",
        "# fix random seed for reproducibility\n",
        "numpy.random.seed(7)"
      ],
      "execution_count": null,
      "outputs": [
        {
          "output_type": "stream",
          "text": [
            "Using TensorFlow backend.\n"
          ],
          "name": "stderr"
        }
      ]
    },
    {
      "cell_type": "code",
      "metadata": {
        "id": "qFE7XI8snu0X",
        "colab_type": "code",
        "colab": {}
      },
      "source": [
        "x_train = np.array(x_train).reshape((-1, 28, 28))\n",
        "x_test = np.array(x_test).reshape((-1, 28, 28))"
      ],
      "execution_count": null,
      "outputs": []
    },
    {
      "cell_type": "code",
      "metadata": {
        "id": "D6GOKoTcn-ih",
        "colab_type": "code",
        "colab": {
          "base_uri": "https://localhost:8080/",
          "height": 235
        },
        "outputId": "13544485-73c5-4429-bdae-de4f8e5b51ec"
      },
      "source": [
        "from tensorflow.python.keras.layers import Dense,LSTM\n",
        "from tensorflow.python.keras import Sequential\n",
        "model_LSTM1 =Sequential()\n",
        "model_LSTM1.add(LSTM(256, input_shape=(x_train.shape[1], x_train.shape[2])))\n",
        "model_LSTM1.add(Dense(30,activation='sigmoid'))\n",
        "model_LSTM1.compile(loss='categorical_crossentropy', optimizer='adam', metrics=['accuracy'])\n",
        "print(model_LSTM1.summary())"
      ],
      "execution_count": null,
      "outputs": [
        {
          "output_type": "stream",
          "text": [
            "Model: \"sequential_3\"\n",
            "_________________________________________________________________\n",
            "Layer (type)                 Output Shape              Param #   \n",
            "=================================================================\n",
            "lstm (LSTM)                  (None, 256)               291840    \n",
            "_________________________________________________________________\n",
            "dense_6 (Dense)              (None, 30)                7710      \n",
            "=================================================================\n",
            "Total params: 299,550\n",
            "Trainable params: 299,550\n",
            "Non-trainable params: 0\n",
            "_________________________________________________________________\n",
            "None\n"
          ],
          "name": "stdout"
        }
      ]
    },
    {
      "cell_type": "code",
      "metadata": {
        "id": "PGsJfhacoEIe",
        "colab_type": "code",
        "colab": {
          "base_uri": "https://localhost:8080/",
          "height": 386
        },
        "outputId": "aa1ff4bf-cb53-48e0-e06f-21695e12189d"
      },
      "source": [
        "model_LSTM1.fit(x_train, y_train,\n",
        "          batch_size=256,\n",
        "          epochs=10,\n",
        "          validation_data=(x_test, y_test))\n",
        "acc = model_LSTM1.evaluate(x_test, y_test,batch_size=256)\n",
        "print('Test accuracy:', acc[1])\n",
        "test_accuracies.append(acc[1])"
      ],
      "execution_count": null,
      "outputs": [
        {
          "output_type": "stream",
          "text": [
            "Epoch 1/10\n",
            "4802/4802 [==============================] - 32s 7ms/step - loss: 0.9440 - accuracy: 0.7222 - val_loss: 0.6305 - val_accuracy: 0.8124\n",
            "Epoch 2/10\n",
            "4802/4802 [==============================] - 32s 7ms/step - loss: 0.5236 - accuracy: 0.8477 - val_loss: 0.4688 - val_accuracy: 0.8651\n",
            "Epoch 3/10\n",
            "4802/4802 [==============================] - 32s 7ms/step - loss: 0.4294 - accuracy: 0.8752 - val_loss: 0.4285 - val_accuracy: 0.8765\n",
            "Epoch 4/10\n",
            "4802/4802 [==============================] - 32s 7ms/step - loss: 0.3831 - accuracy: 0.8891 - val_loss: 0.3961 - val_accuracy: 0.8858\n",
            "Epoch 5/10\n",
            "4802/4802 [==============================] - 32s 7ms/step - loss: 0.3546 - accuracy: 0.8969 - val_loss: 0.3843 - val_accuracy: 0.8915\n",
            "Epoch 6/10\n",
            "4802/4802 [==============================] - 33s 7ms/step - loss: 0.3338 - accuracy: 0.9026 - val_loss: 0.3627 - val_accuracy: 0.8948\n",
            "Epoch 7/10\n",
            "4802/4802 [==============================] - 32s 7ms/step - loss: 0.3176 - accuracy: 0.9075 - val_loss: 0.3602 - val_accuracy: 0.8982\n",
            "Epoch 8/10\n",
            "4802/4802 [==============================] - 32s 7ms/step - loss: 0.3042 - accuracy: 0.9111 - val_loss: 0.3465 - val_accuracy: 0.9025\n",
            "Epoch 9/10\n",
            "4802/4802 [==============================] - 32s 7ms/step - loss: 0.2929 - accuracy: 0.9141 - val_loss: 0.3507 - val_accuracy: 0.9034\n",
            "Epoch 10/10\n",
            "4802/4802 [==============================] - 32s 7ms/step - loss: 0.2830 - accuracy: 0.9170 - val_loss: 0.3557 - val_accuracy: 0.8993\n",
            "40/40 [==============================] - 0s 3ms/step - loss: 0.3557 - accuracy: 0.8993\n",
            "Test accuracy: 0.8992999792098999\n"
          ],
          "name": "stdout"
        }
      ]
    },
    {
      "cell_type": "code",
      "metadata": {
        "colab_type": "code",
        "id": "3DGOoeY78JL0",
        "colab": {
          "base_uri": "https://localhost:8080/",
          "height": 235
        },
        "outputId": "989346e5-d62e-4a1a-8188-6912ff0ea0a4"
      },
      "source": [
        "from tensorflow.python.keras.layers import Dense,LSTM\n",
        "from tensorflow.python.keras import Sequential\n",
        "model_LSTM2 =Sequential()\n",
        "model_LSTM2.add(LSTM(256, input_shape=(x_train.shape[1], x_train.shape[2])))\n",
        "model_LSTM2.add(Dense(30,activation='softmax'))  # CHANGE HERE RELU to sigmoid\n",
        "model_LSTM2.compile(loss='categorical_crossentropy', optimizer='adam', metrics=['accuracy'])\n",
        "print(model_LSTM2.summary())"
      ],
      "execution_count": null,
      "outputs": [
        {
          "output_type": "stream",
          "text": [
            "Model: \"sequential_4\"\n",
            "_________________________________________________________________\n",
            "Layer (type)                 Output Shape              Param #   \n",
            "=================================================================\n",
            "lstm_1 (LSTM)                (None, 256)               291840    \n",
            "_________________________________________________________________\n",
            "dense_7 (Dense)              (None, 30)                7710      \n",
            "=================================================================\n",
            "Total params: 299,550\n",
            "Trainable params: 299,550\n",
            "Non-trainable params: 0\n",
            "_________________________________________________________________\n",
            "None\n"
          ],
          "name": "stdout"
        }
      ]
    },
    {
      "cell_type": "code",
      "metadata": {
        "colab_type": "code",
        "id": "ZWjz3aNq-0yN",
        "colab": {
          "base_uri": "https://localhost:8080/",
          "height": 386
        },
        "outputId": "a4ea6817-5a70-45a7-848a-e8a8c0b155fe"
      },
      "source": [
        "model_LSTM2.fit(x_train, y_train,\n",
        "          batch_size=256,\n",
        "          epochs=10,\n",
        "          validation_data=(x_test, y_test))\n",
        "acc = model_LSTM2.evaluate(x_test, y_test,batch_size=256)\n",
        "print('Test accuracy:', acc[1])\n",
        "test_accuracies.append(acc[1])"
      ],
      "execution_count": null,
      "outputs": [
        {
          "output_type": "stream",
          "text": [
            "Epoch 1/10\n",
            "4802/4802 [==============================] - 33s 7ms/step - loss: 0.8758 - accuracy: 0.7408 - val_loss: 0.5906 - val_accuracy: 0.8266\n",
            "Epoch 2/10\n",
            "4802/4802 [==============================] - 32s 7ms/step - loss: 0.5023 - accuracy: 0.8534 - val_loss: 0.4563 - val_accuracy: 0.8688\n",
            "Epoch 3/10\n",
            "4802/4802 [==============================] - 32s 7ms/step - loss: 0.4170 - accuracy: 0.8789 - val_loss: 0.4058 - val_accuracy: 0.8839\n",
            "Epoch 4/10\n",
            "4802/4802 [==============================] - 32s 7ms/step - loss: 0.3734 - accuracy: 0.8913 - val_loss: 0.3872 - val_accuracy: 0.8888\n",
            "Epoch 5/10\n",
            "4802/4802 [==============================] - 33s 7ms/step - loss: 0.3454 - accuracy: 0.8994 - val_loss: 0.3681 - val_accuracy: 0.8951\n",
            "Epoch 6/10\n",
            "4802/4802 [==============================] - 33s 7ms/step - loss: 0.3254 - accuracy: 0.9050 - val_loss: 0.3528 - val_accuracy: 0.9016\n",
            "Epoch 7/10\n",
            "4802/4802 [==============================] - 32s 7ms/step - loss: 0.3099 - accuracy: 0.9094 - val_loss: 0.3522 - val_accuracy: 0.8991\n",
            "Epoch 8/10\n",
            "4802/4802 [==============================] - 32s 7ms/step - loss: 0.2973 - accuracy: 0.9130 - val_loss: 0.3483 - val_accuracy: 0.9024\n",
            "Epoch 9/10\n",
            "4802/4802 [==============================] - 33s 7ms/step - loss: 0.2864 - accuracy: 0.9160 - val_loss: 0.3523 - val_accuracy: 0.9023\n",
            "Epoch 10/10\n",
            "4802/4802 [==============================] - 32s 7ms/step - loss: 0.2770 - accuracy: 0.9185 - val_loss: 0.3462 - val_accuracy: 0.9030\n",
            "40/40 [==============================] - 0s 4ms/step - loss: 0.3462 - accuracy: 0.9030\n",
            "Test accuracy: 0.902999997138977\n"
          ],
          "name": "stdout"
        }
      ]
    },
    {
      "cell_type": "code",
      "metadata": {
        "colab_type": "code",
        "id": "sXaiWKP9I6pn",
        "colab": {
          "base_uri": "https://localhost:8080/",
          "height": 235
        },
        "outputId": "dfb2d73a-23fc-4051-fb95-567f1cceb010"
      },
      "source": [
        "from tensorflow.python.keras.layers import Dense,LSTM\n",
        "from tensorflow.python.keras import Sequential\n",
        "model_LSTM3 =Sequential()\n",
        "model_LSTM3.add(LSTM(256, input_shape=(x_train.shape[1], x_train.shape[2])))\n",
        "model_LSTM3.add(Dense(30,activation='softplus'))  # CHANGE HERE RELU to sigmoid\n",
        "model_LSTM3.compile(loss='categorical_crossentropy', optimizer='adam', metrics=['accuracy'])\n",
        "print(model_LSTM3.summary())\n"
      ],
      "execution_count": null,
      "outputs": [
        {
          "output_type": "stream",
          "text": [
            "Model: \"sequential_5\"\n",
            "_________________________________________________________________\n",
            "Layer (type)                 Output Shape              Param #   \n",
            "=================================================================\n",
            "lstm_2 (LSTM)                (None, 256)               291840    \n",
            "_________________________________________________________________\n",
            "dense_8 (Dense)              (None, 30)                7710      \n",
            "=================================================================\n",
            "Total params: 299,550\n",
            "Trainable params: 299,550\n",
            "Non-trainable params: 0\n",
            "_________________________________________________________________\n",
            "None\n"
          ],
          "name": "stdout"
        }
      ]
    },
    {
      "cell_type": "code",
      "metadata": {
        "id": "w-GkKnIZJHow",
        "colab_type": "code",
        "colab": {
          "base_uri": "https://localhost:8080/",
          "height": 386
        },
        "outputId": "036f6a94-bbb8-40ea-af43-12d2ec89a5b9"
      },
      "source": [
        "model_LSTM3.fit(x_train, y_train,\n",
        "          batch_size=256,\n",
        "          epochs=10,\n",
        "          validation_data=(x_test, y_test))\n",
        "acc = model_LSTM3.evaluate(x_test, y_test,batch_size=256)\n",
        "print('Test accuracy:', acc[1])\n",
        "test_accuracies.append(acc[1])"
      ],
      "execution_count": null,
      "outputs": [
        {
          "output_type": "stream",
          "text": [
            "Epoch 1/10\n",
            "4802/4802 [==============================] - 32s 7ms/step - loss: 0.9229 - accuracy: 0.7286 - val_loss: 0.5970 - val_accuracy: 0.8242\n",
            "Epoch 2/10\n",
            "4802/4802 [==============================] - 32s 7ms/step - loss: 0.5210 - accuracy: 0.8484 - val_loss: 0.4742 - val_accuracy: 0.8647\n",
            "Epoch 3/10\n",
            "4802/4802 [==============================] - 32s 7ms/step - loss: 0.4291 - accuracy: 0.8752 - val_loss: 0.4163 - val_accuracy: 0.8797\n",
            "Epoch 4/10\n",
            "4802/4802 [==============================] - 32s 7ms/step - loss: 0.3835 - accuracy: 0.8885 - val_loss: 0.3997 - val_accuracy: 0.8850\n",
            "Epoch 5/10\n",
            "4802/4802 [==============================] - 32s 7ms/step - loss: 0.3543 - accuracy: 0.8966 - val_loss: 0.3813 - val_accuracy: 0.8912\n",
            "Epoch 6/10\n",
            "4802/4802 [==============================] - 33s 7ms/step - loss: 0.3340 - accuracy: 0.9028 - val_loss: 0.3661 - val_accuracy: 0.8944\n",
            "Epoch 7/10\n",
            "4802/4802 [==============================] - 32s 7ms/step - loss: 0.3184 - accuracy: 0.9071 - val_loss: 0.3658 - val_accuracy: 0.8959\n",
            "Epoch 8/10\n",
            "4802/4802 [==============================] - 32s 7ms/step - loss: 0.3058 - accuracy: 0.9106 - val_loss: 0.3497 - val_accuracy: 0.9025\n",
            "Epoch 9/10\n",
            "4802/4802 [==============================] - 32s 7ms/step - loss: 0.2946 - accuracy: 0.9139 - val_loss: 0.3564 - val_accuracy: 0.8974\n",
            "Epoch 10/10\n",
            "4802/4802 [==============================] - 32s 7ms/step - loss: 0.2844 - accuracy: 0.9166 - val_loss: 0.3535 - val_accuracy: 0.9010\n",
            "40/40 [==============================] - 0s 3ms/step - loss: 0.3535 - accuracy: 0.9010\n",
            "Test accuracy: 0.9010000228881836\n"
          ],
          "name": "stdout"
        }
      ]
    },
    {
      "cell_type": "code",
      "metadata": {
        "id": "Hgt7kQvTp4T5",
        "colab_type": "code",
        "colab": {
          "base_uri": "https://localhost:8080/",
          "height": 67
        },
        "outputId": "1bc56837-2be8-4dd0-e62c-1cf9fc4b5f1c"
      },
      "source": [
        "scores = model_LSTM1.evaluate(x_test, y_test, verbose=0)\n",
        "print(\"Accuracy: %.2f%%\" % (scores[1]*100))\n",
        "scores = model_LSTM2.evaluate(x_test, y_test, verbose=0)\n",
        "print(\"Accuracy: %.2f%%\" % (scores[1]*100))\n",
        "scores = model_LSTM3.evaluate(x_test, y_test, verbose=0)\n",
        "print(\"Accuracy: %.2f%%\" % (scores[1]*100))\n",
        "\n"
      ],
      "execution_count": null,
      "outputs": [
        {
          "output_type": "stream",
          "text": [
            "Accuracy: 89.93%\n",
            "Accuracy: 90.30%\n",
            "Accuracy: 90.10%\n"
          ],
          "name": "stdout"
        }
      ]
    },
    {
      "cell_type": "code",
      "metadata": {
        "id": "y80oSzFZp5F4",
        "colab_type": "code",
        "colab": {
          "base_uri": "https://localhost:8080/",
          "height": 483
        },
        "outputId": "d3bdb2a8-e23d-43f7-a7af-f1b8fab2aca1"
      },
      "source": [
        "import matplotlib.pyplot as plt\n",
        "from random import randint\n",
        "%matplotlib inline  \n",
        "#idx = randint(0, len(x_test))\n",
        "#idx=666\n",
        "img = x_test[idx]\n",
        "plt.imshow(img.squeeze()) \n",
        "pred_LSTM1 = model_LSTM1.predict(np.expand_dims(img, axis=0))[0]\n",
        "pred_labels.append(pred_LSTM1)\n",
        "ind_LSTM1 = (-pred_LSTM1).argsort()[:5]\n",
        "latex_LSTM1 = [class_names[x] for x in ind_LSTM1]\n",
        "print(\"This prediction of LSTM 1\")\n",
        "print(latex_LSTM1)\n",
        "\n",
        "pred_LSTM2 = model_LSTM2.predict(np.expand_dims(img, axis=0))[0]\n",
        "pred_labels.append(pred_LSTM2)\n",
        "ind_LSTM2 = (-pred_LSTM2).argsort()[:5]\n",
        "latex_LSTM2 = [class_names[x] for x in ind_LSTM2]\n",
        "print(\"This prediction of LSTM 2\")\n",
        "print(latex_LSTM2)\n",
        "\n",
        "\n",
        "pred_LSTM3 = model_LSTM3.predict(np.expand_dims(img, axis=0))[0]\n",
        "pred_labels.append(pred_LSTM3)\n",
        "ind_LSTM3 = (-pred_LSTM3).argsort()[:5]\n",
        "latex_LSTM3 = [class_names[x] for x in ind_LSTM3]\n",
        "print(\"This prediction of LSTM 3\")\n",
        "print(latex_LSTM3)\n",
        "\n",
        "\n",
        "\n",
        "#pred = model.predict(np.expand_dims(img, axis=0))[0]\n",
        "#ind = (-pred).argsort()[:5]\n",
        "#latex = [class_names[x] for x in ind]\n",
        "#print(latex)\n",
        "print(\"This is prediction of cnn 1\")\n",
        "print(latex_CNN1)\n",
        "print(\"This is prediction of cnn 2\")\n",
        "print(latex_CNN2)\n",
        "print()\n",
        "print(\"This is prediction of cnn 3\")\n",
        "print(latex_CNN3)\n"
      ],
      "execution_count": null,
      "outputs": [
        {
          "output_type": "stream",
          "text": [
            "This prediction of LSTM 1\n",
            "['cup', 'tree', 'axe', 'knife', 'tractor']\n",
            "This prediction of LSTM 2\n",
            "['cup', 'knife', 'butterfly', 'key', 'apple']\n",
            "This prediction of LSTM 3\n",
            "['cup', 'axe', 'apple', 'ambulance', 'hammer']\n",
            "This is prediction of cnn 1\n",
            "['cup', 'key', 'apple', 'hammer', 'tree']\n",
            "This is prediction of cnn 2\n",
            "['cup', 'butterfly', 'apple', 'spider', 'hammer']\n",
            "\n",
            "This is prediction of cnn 3\n",
            "['cup', 'knife', 'ambulance', 'butterfly', 'tractor']\n"
          ],
          "name": "stdout"
        },
        {
          "output_type": "display_data",
          "data": {
            "image/png": "[encoded data removed]",
            "text/plain": [
              "<Figure size 432x288 with 1 Axes>"
            ]
          },
          "metadata": {
            "tags": [],
            "needs_background": "light"
          }
        }
      ]
    },
    {
      "cell_type": "code",
      "metadata": {
        "id": "H1axZUmgqG71",
        "colab_type": "code",
        "colab": {
          "base_uri": "https://localhost:8080/",
          "height": 1000
        },
        "outputId": "4917b3f3-40db-458f-9f13-d4dec0338856"
      },
      "source": [
        "print(pred_labels)\n",
        "print(test_accuracies)\n",
        "\n",
        "#def ensemble_predictions():\n",
        " #   # Empty list of predicted labels for each of the neural networks.\n",
        "  #  pred_labels = []\n",
        "\n",
        "    # Classification accuracy on the test-set for each network.\n",
        "   # test_accuracies = []\n",
        "\n",
        "print(\"Mean test-set accuracy: {0:.4f}\".format(np.mean(test_accuracies)))\n",
        "print(\"Min test-set accuracy:  {0:.4f}\".format(np.min(test_accuracies)))\n",
        "print(\"Max test-set accuracy:  {0:.4f}\".format(np.max(test_accuracies)))\n",
        "\n",
        "\n",
        "ensemble_pred_labels = np.mean(pred_labels, axis=0)\n",
        "print(ensemble_pred_labels)\n",
        "print(ensemble_pred_labels.shape)\n",
        "#pred =ensemble_pred_labels.predict(np.expand_dims(img, axis=0))[0]\n",
        "#pred_labels.append(pred_CNN3)\n",
        "ind_CNN3 = (-ensemble_pred_labels).argsort()[:5]\n",
        "latex_ensemble = [class_names[x] for x in ind_CNN3]\n",
        "\n",
        "scores = model_LSTM3.evaluate(x_test, y_test, verbose=0)\n",
        "print(\"Accuracy: %.2f%%\" % (scores[1]*100))\n",
        "\n",
        "\n",
        "print(latex_ensemble)"
      ],
      "execution_count": null,
      "outputs": [
        {
          "output_type": "stream",
          "text": [
            "[array([2.3412558e-06, 1.8482508e-05, 3.2339044e-06, 1.1004463e-06,\n",
            "       6.3908800e-10, 1.0995505e-08, 3.6997317e-06, 1.7455359e-06,\n",
            "       1.2508853e-08, 1.5808693e-06, 2.2292267e-07, 3.4947707e-08,\n",
            "       9.9990046e-01, 5.0278356e-08, 5.1618758e-07, 6.5264207e-06,\n",
            "       1.3222478e-05, 2.1964519e-05, 8.5368365e-06, 1.4984379e-06,\n",
            "       3.7535560e-08, 2.6124285e-09, 1.0810064e-14, 1.3295258e-07,\n",
            "       3.8896001e-06, 4.9633347e-10, 1.8850592e-06, 8.7889193e-06,\n",
            "       2.6234637e-09, 3.0385920e-08], dtype=float32), array([4.1128642e-15, 3.2046452e-13, 1.4999814e-15, 7.9233571e-18,\n",
            "       2.0282341e-21, 3.1384397e-16, 4.7863402e-10, 4.0119284e-20,\n",
            "       2.9682512e-18, 6.5807393e-16, 1.6754811e-18, 7.2925128e-20,\n",
            "       1.0000000e+00, 7.3203400e-17, 3.0551009e-17, 9.1978986e-15,\n",
            "       4.7758337e-14, 4.2811091e-15, 4.1394786e-16, 8.1079237e-23,\n",
            "       1.4711102e-14, 2.7440962e-17, 2.8168560e-23, 3.9324570e-19,\n",
            "       1.8743476e-13, 3.1189857e-16, 5.3246122e-16, 1.1883438e-17,\n",
            "       5.2844225e-17, 8.1960507e-16], dtype=float32), array([1.6597166e-08, 1.8457702e-10, 5.2775492e-11, 5.4964699e-10,\n",
            "       6.1918075e-11, 5.9172268e-12, 5.3788947e-09, 3.0698888e-11,\n",
            "       6.4657533e-12, 3.0301619e-11, 2.2623174e-10, 6.1970465e-13,\n",
            "       1.0000000e+00, 9.0997665e-10, 6.4724905e-12, 4.2414770e-12,\n",
            "       2.9336764e-10, 9.1572755e-10, 5.4459154e-08, 1.8982360e-10,\n",
            "       2.8846650e-10, 2.7862565e-10, 7.6391486e-13, 4.4605233e-11,\n",
            "       6.4860506e-11, 1.9684983e-11, 2.4898799e-09, 2.7484537e-10,\n",
            "       1.6761743e-11, 3.2003910e-11], dtype=float32), array([4.7912181e-06, 3.3987038e-05, 1.5735747e-04, 4.6983518e-05,\n",
            "       1.2789091e-06, 2.8930986e-06, 1.0880538e-05, 2.2875768e-06,\n",
            "       4.0688104e-07, 2.4644112e-06, 2.1254660e-05, 1.8048757e-05,\n",
            "       9.9866140e-01, 9.9255567e-06, 5.6445197e-06, 1.2771521e-05,\n",
            "       2.8802900e-05, 2.3326229e-05, 6.5019485e-05, 2.8812590e-06,\n",
            "       3.0987330e-06, 4.2778686e-07, 4.6802495e-09, 1.8869449e-06,\n",
            "       2.3094551e-06, 1.7268926e-08, 6.0566093e-05, 2.0197436e-04,\n",
            "       1.2329307e-06, 2.2864418e-07], dtype=float32), array([4.2893498e-07, 2.1857447e-06, 6.7572392e-07, 3.3993299e-08,\n",
            "       2.0087219e-09, 4.7582168e-07, 6.7786132e-06, 2.7781006e-08,\n",
            "       5.5431098e-08, 1.3301656e-07, 3.0432016e-08, 2.1993484e-08,\n",
            "       9.9995911e-01, 4.4493184e-08, 1.1763240e-08, 6.4416935e-07,\n",
            "       2.0324214e-07, 2.7322619e-06, 2.3178709e-05, 3.6321417e-08,\n",
            "       1.8747228e-06, 7.4023885e-09, 4.9970533e-10, 3.5420544e-07,\n",
            "       1.3596852e-07, 2.7922191e-09, 7.1325793e-08, 6.2100639e-07,\n",
            "       2.9757523e-08, 2.2427908e-08], dtype=float32), array([1.29095322e-04, 1.29214517e-04, 2.35649000e-04, 1.43051045e-06,\n",
            "       9.29608177e-08, 2.62260096e-06, 5.36440348e-06, 4.64915138e-06,\n",
            "       8.63790092e-07, 8.70223994e-06, 4.05310766e-06, 3.23915401e-07,\n",
            "       4.34637213e+00, 4.06601885e-07, 1.37089746e-05, 7.03044464e-07,\n",
            "       8.73765894e-05, 1.22784813e-05, 5.26891163e-05, 2.02655588e-06,\n",
            "       5.24519510e-06, 2.50032244e-08, 1.01432827e-08, 1.03769594e-07,\n",
            "       2.28879217e-05, 1.19290078e-07, 3.21859916e-05, 1.43051045e-06,\n",
            "       4.14270431e-07, 1.66892869e-06], dtype=float32)]\n",
            "[0.9785000085830688, 0.9758999943733215, 0.9763000011444092, 0.8992999792098999, 0.902999997138977, 0.9010000228881836]\n",
            "Mean test-set accuracy: 0.9390\n",
            "Min test-set accuracy:  0.8993\n",
            "Max test-set accuracy:  0.9785\n",
            "[2.2778890e-05 3.0644998e-05 6.6152694e-05 8.2581691e-06 2.2909660e-07\n",
            " 1.0004204e-06 4.4548574e-06 1.4516794e-06 2.2310292e-07 2.1467611e-06\n",
            " 4.2602246e-06 3.0716021e-06 1.5574821e+00 1.7379734e-06 3.3135755e-06\n",
            " 3.4408602e-06 2.1600916e-05 1.0050401e-05 2.4913103e-05 1.0737940e-06\n",
            " 1.7094126e-06 7.7180587e-08 2.5540021e-09 4.1298617e-07 4.8705019e-06\n",
            " 2.3311207e-08 1.5785159e-05 3.5469177e-05 2.7993315e-07 3.2506978e-07]\n",
            "(30,)\n"
          ],
          "name": "stdout"
        },
        {
          "output_type": "error",
          "ename": "AttributeError",
          "evalue": "ignored",
          "traceback": [
            "\u001b[0;31m---------------------------------------------------------------------------\u001b[0m",
            "\u001b[0;31mAttributeError\u001b[0m                            Traceback (most recent call last)",
            "\u001b[0;32m<ipython-input-34-bcb43f8b8d4a>\u001b[0m in \u001b[0;36m<module>\u001b[0;34m()\u001b[0m\n\u001b[1;32m     22\u001b[0m \u001b[0mlatex_ensemble\u001b[0m \u001b[0;34m=\u001b[0m \u001b[0;34m[\u001b[0m\u001b[0mclass_names\u001b[0m\u001b[0;34m[\u001b[0m\u001b[0mx\u001b[0m\u001b[0;34m]\u001b[0m \u001b[0;32mfor\u001b[0m \u001b[0mx\u001b[0m \u001b[0;32min\u001b[0m \u001b[0mind_CNN3\u001b[0m\u001b[0;34m]\u001b[0m\u001b[0;34m\u001b[0m\u001b[0;34m\u001b[0m\u001b[0m\n\u001b[1;32m     23\u001b[0m \u001b[0;34m\u001b[0m\u001b[0m\n\u001b[0;32m---> 24\u001b[0;31m \u001b[0mscores\u001b[0m \u001b[0;34m=\u001b[0m \u001b[0mensemble_pred_labels\u001b[0m\u001b[0;34m.\u001b[0m\u001b[0mevaluate\u001b[0m\u001b[0;34m(\u001b[0m\u001b[0mx_test\u001b[0m\u001b[0;34m,\u001b[0m \u001b[0my_test\u001b[0m\u001b[0;34m,\u001b[0m \u001b[0mverbose\u001b[0m\u001b[0;34m=\u001b[0m\u001b[0;36m0\u001b[0m\u001b[0;34m)\u001b[0m\u001b[0;34m\u001b[0m\u001b[0;34m\u001b[0m\u001b[0m\n\u001b[0m\u001b[1;32m     25\u001b[0m \u001b[0mprint\u001b[0m\u001b[0;34m(\u001b[0m\u001b[0;34m\"Accuracy: %.2f%%\"\u001b[0m \u001b[0;34m%\u001b[0m \u001b[0;34m(\u001b[0m\u001b[0mscores\u001b[0m\u001b[0;34m[\u001b[0m\u001b[0;36m1\u001b[0m\u001b[0;34m]\u001b[0m\u001b[0;34m*\u001b[0m\u001b[0;36m100\u001b[0m\u001b[0;34m)\u001b[0m\u001b[0;34m)\u001b[0m\u001b[0;34m\u001b[0m\u001b[0;34m\u001b[0m\u001b[0m\n\u001b[1;32m     26\u001b[0m \u001b[0;34m\u001b[0m\u001b[0m\n",
            "\u001b[0;31mAttributeError\u001b[0m: 'numpy.ndarray' object has no attribute 'evaluate'"
          ]
        }
      ]
    },
    {
      "cell_type": "code",
      "metadata": {
        "id": "qMfaitD3vgR2",
        "colab_type": "code",
        "colab": {}
      },
      "source": [
        ""
      ],
      "execution_count": null,
      "outputs": []
    }
  ]
}